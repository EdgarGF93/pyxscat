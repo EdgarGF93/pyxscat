{
 "cells": [
  {
   "cell_type": "code",
   "execution_count": 1,
   "id": "22d8a327-366e-4562-8b2e-a2388326bb33",
   "metadata": {},
   "outputs": [
    {
     "name": "stderr",
     "output_type": "stream",
     "text": [
      "WARNING:pygix.transform:Unable to import pyFAI.ocl_azim: cannot import name 'ocl_azim' from 'pyFAI' (C:\\ProgramData\\Anaconda3\\envs\\edgar\\lib\\site-packages\\pyFAI\\__init__.py)\n",
      "ERROR:pygix.transform:Unable to import pyFAI.ocl_azim_csr: cannot import name 'ocl_azim_csr' from 'pyFAI' (C:\\ProgramData\\Anaconda3\\envs\\edgar\\lib\\site-packages\\pyFAI\\__init__.py)\n",
      "ERROR:pygix.transform:Unable to import pyFAI.ocl_azim_lut for: cannot import name 'ocl_azim_lut' from 'pyFAI' (C:\\ProgramData\\Anaconda3\\envs\\edgar\\lib\\site-packages\\pyFAI\\__init__.py)\n",
      "ERROR:pygix.transform:Unable to import pyFAI.ocl_sort for: cannot import name 'ocl_sort' from 'pyFAI' (C:\\ProgramData\\Anaconda3\\envs\\edgar\\lib\\site-packages\\pyFAI\\__init__.py)\n"
     ]
    }
   ],
   "source": [
    "from pyxscat.edf import EdfClass"
   ]
  },
  {
   "cell_type": "code",
   "execution_count": 2,
   "id": "604e005b-eac9-42f6-9acb-0d43fdfbf502",
   "metadata": {},
   "outputs": [],
   "source": [
    "PATH_I07 = r\"E:\\Datos_Sincrotrones\\Diamond_I07_Jul2023\\PTQ10Y6_11_measure\\pilatus2\\p2mImage_473588_1040011.tif\"\n",
    "PATH_XMAS = r\"E:\\Datos_Sincrotrones\\XMaS_May2023\\MARCCD\\LaB6\\LaB6_r00000_n0124_p021.edf\""
   ]
  },
  {
   "cell_type": "code",
   "execution_count": 3,
   "id": "f675d3ed-433d-4bed-bf64-b97dbfe87c4e",
   "metadata": {},
   "outputs": [],
   "source": [
    "edf = EdfClass(\n",
    "    filename=PATH_I07,\n",
    ")"
   ]
  },
  {
   "cell_type": "code",
   "execution_count": 4,
   "id": "ab4a62e4-e78d-45f0-bb66-d52b192302ef",
   "metadata": {},
   "outputs": [
    {
     "data": {
      "text/plain": [
       "{'Pixel_size': 0.000172,\n",
       " 'Silicon': 'sensor, thickness 0.000320 m',\n",
       " 'Exposure_time': 2.0,\n",
       " 'Exposure_period': 2.0,\n",
       " 'Tau': 1.991e-07,\n",
       " 'Count_cutoff': 1179179.0,\n",
       " 'Threshold_setting': 6200.0,\n",
       " 'Gain_setting': 'mid gain (vrf = -0.200)',\n",
       " 'N_excluded_pixels': 1013.0,\n",
       " 'Excluded_pixels': 'badpix_mask.tif',\n",
       " 'Flat_field': '(nil)',\n",
       " 'Trim_file': 'p2m0101_E20000_T6200_vrf_m0p20.bin',\n",
       " 'Image_path': '/ramdisk/2023/si33312-1/PTQ10Y6_11_measure/pilatus2/',\n",
       " 'Wavelength': 0.61995,\n",
       " 'Energy_range': '(0, 0) eV',\n",
       " 'Detector_distance': 1.0,\n",
       " 'Detector_Voffset': 0.0,\n",
       " 'Beam_xy': '(0.00, 0.00) pixels',\n",
       " 'Flux': 0.0,\n",
       " 'Filter_transmission': 1.0,\n",
       " 'Start_angle': 0.0,\n",
       " 'Angle_increment': 0.1,\n",
       " 'Detector_2theta': 0.0,\n",
       " 'Polarization': 0.99,\n",
       " 'Alpha': 0.0,\n",
       " 'Kappa': 0.0,\n",
       " 'Phi': 10.0,\n",
       " 'Phi_increment': 0.1,\n",
       " 'Omega': 10.0,\n",
       " 'Omega_increment': 0.1,\n",
       " 'Chi': 10.0,\n",
       " 'Chi_increment': 0.1,\n",
       " 'Oscillation_axis': 'X, CW',\n",
       " 'N_oscillations': 1.0}"
      ]
     },
     "execution_count": 4,
     "metadata": {},
     "output_type": "execute_result"
    }
   ],
   "source": [
    "edf.get_header()"
   ]
  },
  {
   "cell_type": "code",
   "execution_count": 5,
   "id": "a4020aa5-1a75-4748-ae4f-853ca07e23e1",
   "metadata": {},
   "outputs": [
    {
     "data": {
      "text/plain": [
       "{'Pixel_size': '172e-6 m x 172e-6 m',\n",
       " 'Silicon': 'sensor, thickness 0.000320 m',\n",
       " 'Exposure_time': '2.0000000 s',\n",
       " 'Exposure_period': '2.0000000 s',\n",
       " 'Tau': '199.1e-09 s',\n",
       " 'Count_cutoff': '1179179 counts',\n",
       " 'Threshold_setting': '6200 eV',\n",
       " 'Gain_setting': 'mid gain (vrf = -0.200)',\n",
       " 'N_excluded_pixels': '1013',\n",
       " 'Excluded_pixels': 'badpix_mask.tif',\n",
       " 'Flat_field': '(nil)',\n",
       " 'Trim_file': 'p2m0101_E20000_T6200_vrf_m0p20.bin',\n",
       " 'Image_path': '/ramdisk/2023/si33312-1/PTQ10Y6_11_measure/pilatus2/',\n",
       " 'Wavelength': '0.61995 A',\n",
       " 'Energy_range': '(0, 0) eV',\n",
       " 'Detector_distance': '1.00000 m',\n",
       " 'Detector_Voffset': '0.00000 m',\n",
       " 'Beam_xy': '(0.00, 0.00) pixels',\n",
       " 'Flux': '0.000000',\n",
       " 'Filter_transmission': '1.0000',\n",
       " 'Start_angle': '0.0000 deg.',\n",
       " 'Angle_increment': '0.1000 deg.',\n",
       " 'Detector_2theta': '0.0000 deg.',\n",
       " 'Polarization': '0.990',\n",
       " 'Alpha': '0.0000 deg.',\n",
       " 'Kappa': '0.0000 deg.',\n",
       " 'Phi': '10.0000 deg.',\n",
       " 'Phi_increment': '0.1000 deg.',\n",
       " 'Omega': '10.0000 deg.',\n",
       " 'Omega_increment': '0.1000 deg.',\n",
       " 'Chi': '10.0000 deg.',\n",
       " 'Chi_increment': '0.1000 deg.',\n",
       " 'Oscillation_axis': 'X, CW',\n",
       " 'N_oscillations': '1'}"
      ]
     },
     "execution_count": 5,
     "metadata": {},
     "output_type": "execute_result"
    }
   ],
   "source": [
    "edf.get_raw_header()"
   ]
  },
  {
   "cell_type": "code",
   "execution_count": 6,
   "id": "e6bef28c-dcfe-4e71-a80a-08458a2f85d9",
   "metadata": {},
   "outputs": [],
   "source": [
    "a = '199.1e-09 s'"
   ]
  },
  {
   "cell_type": "code",
   "execution_count": 8,
   "id": "b37748d9-cc00-4f8d-bb82-8bc4b5194b9b",
   "metadata": {},
   "outputs": [
    {
     "data": {
      "text/plain": [
       "1.991e-07"
      ]
     },
     "execution_count": 8,
     "metadata": {},
     "output_type": "execute_result"
    }
   ],
   "source": [
    "float(a.split()[0])"
   ]
  },
  {
   "cell_type": "code",
   "execution_count": null,
   "id": "90270aba-3b69-4e53-88bd-902a0ca4e986",
   "metadata": {},
   "outputs": [],
   "source": []
  }
 ],
 "metadata": {
  "kernelspec": {
   "display_name": "Python 3 (ipykernel)",
   "language": "python",
   "name": "python3"
  },
  "language_info": {
   "codemirror_mode": {
    "name": "ipython",
    "version": 3
   },
   "file_extension": ".py",
   "mimetype": "text/x-python",
   "name": "python",
   "nbconvert_exporter": "python",
   "pygments_lexer": "ipython3",
   "version": "3.10.9"
  }
 },
 "nbformat": 4,
 "nbformat_minor": 5
}
