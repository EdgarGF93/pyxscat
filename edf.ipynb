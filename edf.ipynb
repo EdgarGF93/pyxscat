{
 "cells": [
  {
   "cell_type": "code",
   "execution_count": 23,
   "id": "22d8a327-366e-4562-8b2e-a2388326bb33",
   "metadata": {},
   "outputs": [],
   "source": [
    "from pyxscat.edf import EdfClass\n",
    "import fabio\n",
    "import matplotlib.pyplot as plt"
   ]
  },
  {
   "cell_type": "code",
   "execution_count": 24,
   "id": "604e005b-eac9-42f6-9acb-0d43fdfbf502",
   "metadata": {},
   "outputs": [],
   "source": [
    "PATH_I07 = r\"E:\\Datos_Sincrotrones\\Diamond_I07_Jul2023\\PTQ10Y6_11_measure\\pilatus2\\p2mImage_473588_1040011.tif\"\n",
    "PATH_XMAS = r\"E:\\Datos_Sincrotrones\\XMaS_May2023\\MARCCD\\LaB6\\LaB6_r00000_n0124_p021.edf\"\n",
    "PATH_TEST = r\"C:\\Users\\edgar1993a\\Desktop\\Pilatus1M\\image_00063.tif\""
   ]
  },
  {
   "cell_type": "code",
   "execution_count": 25,
   "id": "5a5d0f56-eaad-443f-baae-a09237c4855d",
   "metadata": {},
   "outputs": [],
   "source": [
    "f = fabio.open(PATH_TEST)"
   ]
  },
  {
   "cell_type": "code",
   "execution_count": 35,
   "id": "74666989-ffe0-484a-859d-30fee80f3a75",
   "metadata": {},
   "outputs": [
    {
     "data": {
      "text/plain": [
       "(1043, 981)"
      ]
     },
     "execution_count": 35,
     "metadata": {},
     "output_type": "execute_result"
    }
   ],
   "source": [
    "f.data.shape"
   ]
  },
  {
   "cell_type": "code",
   "execution_count": 36,
   "id": "958b0563-03db-42c2-b1cd-93f559c0f1fa",
   "metadata": {},
   "outputs": [],
   "source": [
    "import numpy as np"
   ]
  },
  {
   "cell_type": "code",
   "execution_count": 44,
   "id": "7f5eccde-b214-4a72-9b7a-7c91ad4eb864",
   "metadata": {},
   "outputs": [
    {
     "data": {
      "text/plain": [
       "4.382928509097467"
      ]
     },
     "execution_count": 44,
     "metadata": {},
     "output_type": "execute_result"
    }
   ],
   "source": [
    "2 * np.pi / 0.1 * (np.sin(np.radians(4)) + np.sin(np.radians(0)))"
   ]
  },
  {
   "cell_type": "code",
   "execution_count": 43,
   "id": "834dd6f6-d4a0-4a2d-b5b0-b0649f565f21",
   "metadata": {},
   "outputs": [
    {
     "data": {
      "text/plain": [
       "-1.2611814226146496"
      ]
     },
     "execution_count": 43,
     "metadata": {},
     "output_type": "execute_result"
    }
   ],
   "source": [
    "np.arcsin(3 * 0.1 / (2 * np.pi) - np.sin(np.radians(4))) * 180 / np.pi"
   ]
  },
  {
   "cell_type": "code",
   "execution_count": 26,
   "id": "8821d4d1-4726-4861-803f-b429577e2336",
   "metadata": {},
   "outputs": [
    {
     "data": {
      "text/plain": [
       "{\n",
       "  \"Pixel_size\": \"172e-6 m x 172e-6 m\",\n",
       "  \"Silicon\": \"sensor, thickness 0.000450 m\",\n",
       "  \"Exposure_time\": \"1.0000000 s\",\n",
       "  \"Exposure_period\": \"1.0000000 s\",\n",
       "  \"Tau\": \"0 s\",\n",
       "  \"Count_cutoff\": \"1409688 counts\",\n",
       "  \"Threshold_setting\": \"4024 eV\",\n",
       "  \"Gain_setting\": \"autog (vrf = 1.000)\",\n",
       "  \"N_excluded_pixels\": \"22\",\n",
       "  \"Excluded_pixels\": \"badpix_mask.tif\",\n",
       "  \"Flat_field\": \"FF_p10-0181_E8048_T4024_vrf_m0p100.tif\",\n",
       "  \"Trim_file\": \"p10-0181_E8048_T4024.bin\",\n",
       "  \"Image_path\": \"/home/det/p2_det/images/\",\n",
       "  \"Ratecorr_lut_directory\": \"ContinuousStandard_v1.1\",\n",
       "  \"Retrigger_mode\": \"1\"\n",
       "}"
      ]
     },
     "execution_count": 26,
     "metadata": {},
     "output_type": "execute_result"
    }
   ],
   "source": [
    "f.header"
   ]
  },
  {
   "cell_type": "code",
   "execution_count": 33,
   "id": "d40a870e-81bb-4921-a88c-22a95104ce65",
   "metadata": {},
   "outputs": [
    {
     "data": {
      "text/plain": [
       "<matplotlib.colorbar.Colorbar at 0x2836720a2c0>"
      ]
     },
     "execution_count": 33,
     "metadata": {},
     "output_type": "execute_result"
    },
    {
     "data": {
      "image/png": "[encoded data removed]",
      "text/plain": [
       "<Figure size 640x480 with 2 Axes>"
      ]
     },
     "metadata": {},
     "output_type": "display_data"
    }
   ],
   "source": [
    "plt.imshow(f.data, vmin=-1, vmax=1)\n",
    "plt.colorbar()"
   ]
  },
  {
   "cell_type": "code",
   "execution_count": null,
   "id": "85cd2f5b-1d33-4bfa-9471-2fbaf69bcfa1",
   "metadata": {},
   "outputs": [],
   "source": []
  },
  {
   "cell_type": "code",
   "execution_count": null,
   "id": "f365b7e8-2cc5-4a5c-893a-e452dfc25dec",
   "metadata": {},
   "outputs": [],
   "source": []
  },
  {
   "cell_type": "code",
   "execution_count": 3,
   "id": "f675d3ed-433d-4bed-bf64-b97dbfe87c4e",
   "metadata": {},
   "outputs": [],
   "source": [
    "edf = EdfClass(\n",
    "    filename=PATH_I07,\n",
    ")"
   ]
  },
  {
   "cell_type": "code",
   "execution_count": 4,
   "id": "ab4a62e4-e78d-45f0-bb66-d52b192302ef",
   "metadata": {},
   "outputs": [
    {
     "data": {
      "text/plain": [
       "{'Pixel_size': 0.000172,\n",
       " 'Silicon': 'sensor, thickness 0.000320 m',\n",
       " 'Exposure_time': 2.0,\n",
       " 'Exposure_period': 2.0,\n",
       " 'Tau': 1.991e-07,\n",
       " 'Count_cutoff': 1179179.0,\n",
       " 'Threshold_setting': 6200.0,\n",
       " 'Gain_setting': 'mid gain (vrf = -0.200)',\n",
       " 'N_excluded_pixels': 1013.0,\n",
       " 'Excluded_pixels': 'badpix_mask.tif',\n",
       " 'Flat_field': '(nil)',\n",
       " 'Trim_file': 'p2m0101_E20000_T6200_vrf_m0p20.bin',\n",
       " 'Image_path': '/ramdisk/2023/si33312-1/PTQ10Y6_11_measure/pilatus2/',\n",
       " 'Wavelength': 0.61995,\n",
       " 'Energy_range': '(0, 0) eV',\n",
       " 'Detector_distance': 1.0,\n",
       " 'Detector_Voffset': 0.0,\n",
       " 'Beam_xy': '(0.00, 0.00) pixels',\n",
       " 'Flux': 0.0,\n",
       " 'Filter_transmission': 1.0,\n",
       " 'Start_angle': 0.0,\n",
       " 'Angle_increment': 0.1,\n",
       " 'Detector_2theta': 0.0,\n",
       " 'Polarization': 0.99,\n",
       " 'Alpha': 0.0,\n",
       " 'Kappa': 0.0,\n",
       " 'Phi': 10.0,\n",
       " 'Phi_increment': 0.1,\n",
       " 'Omega': 10.0,\n",
       " 'Omega_increment': 0.1,\n",
       " 'Chi': 10.0,\n",
       " 'Chi_increment': 0.1,\n",
       " 'Oscillation_axis': 'X, CW',\n",
       " 'N_oscillations': 1.0}"
      ]
     },
     "execution_count": 4,
     "metadata": {},
     "output_type": "execute_result"
    }
   ],
   "source": [
    "edf.get_header()"
   ]
  },
  {
   "cell_type": "code",
   "execution_count": 5,
   "id": "a4020aa5-1a75-4748-ae4f-853ca07e23e1",
   "metadata": {},
   "outputs": [
    {
     "data": {
      "text/plain": [
       "{'Pixel_size': '172e-6 m x 172e-6 m',\n",
       " 'Silicon': 'sensor, thickness 0.000320 m',\n",
       " 'Exposure_time': '2.0000000 s',\n",
       " 'Exposure_period': '2.0000000 s',\n",
       " 'Tau': '199.1e-09 s',\n",
       " 'Count_cutoff': '1179179 counts',\n",
       " 'Threshold_setting': '6200 eV',\n",
       " 'Gain_setting': 'mid gain (vrf = -0.200)',\n",
       " 'N_excluded_pixels': '1013',\n",
       " 'Excluded_pixels': 'badpix_mask.tif',\n",
       " 'Flat_field': '(nil)',\n",
       " 'Trim_file': 'p2m0101_E20000_T6200_vrf_m0p20.bin',\n",
       " 'Image_path': '/ramdisk/2023/si33312-1/PTQ10Y6_11_measure/pilatus2/',\n",
       " 'Wavelength': '0.61995 A',\n",
       " 'Energy_range': '(0, 0) eV',\n",
       " 'Detector_distance': '1.00000 m',\n",
       " 'Detector_Voffset': '0.00000 m',\n",
       " 'Beam_xy': '(0.00, 0.00) pixels',\n",
       " 'Flux': '0.000000',\n",
       " 'Filter_transmission': '1.0000',\n",
       " 'Start_angle': '0.0000 deg.',\n",
       " 'Angle_increment': '0.1000 deg.',\n",
       " 'Detector_2theta': '0.0000 deg.',\n",
       " 'Polarization': '0.990',\n",
       " 'Alpha': '0.0000 deg.',\n",
       " 'Kappa': '0.0000 deg.',\n",
       " 'Phi': '10.0000 deg.',\n",
       " 'Phi_increment': '0.1000 deg.',\n",
       " 'Omega': '10.0000 deg.',\n",
       " 'Omega_increment': '0.1000 deg.',\n",
       " 'Chi': '10.0000 deg.',\n",
       " 'Chi_increment': '0.1000 deg.',\n",
       " 'Oscillation_axis': 'X, CW',\n",
       " 'N_oscillations': '1'}"
      ]
     },
     "execution_count": 5,
     "metadata": {},
     "output_type": "execute_result"
    }
   ],
   "source": [
    "edf.get_raw_header()"
   ]
  },
  {
   "cell_type": "code",
   "execution_count": 6,
   "id": "e6bef28c-dcfe-4e71-a80a-08458a2f85d9",
   "metadata": {},
   "outputs": [],
   "source": [
    "a = '199.1e-09 s'"
   ]
  },
  {
   "cell_type": "code",
   "execution_count": 8,
   "id": "b37748d9-cc00-4f8d-bb82-8bc4b5194b9b",
   "metadata": {},
   "outputs": [
    {
     "data": {
      "text/plain": [
       "1.991e-07"
      ]
     },
     "execution_count": 8,
     "metadata": {},
     "output_type": "execute_result"
    }
   ],
   "source": [
    "float(a.split()[0])"
   ]
  },
  {
   "cell_type": "code",
   "execution_count": 6,
   "id": "90270aba-3b69-4e53-88bd-902a0ca4e986",
   "metadata": {},
   "outputs": [],
   "source": [
    "import time"
   ]
  },
  {
   "cell_type": "code",
   "execution_count": 7,
   "id": "0fa50624-c428-4948-848f-67205fa549a8",
   "metadata": {},
   "outputs": [
    {
     "data": {
      "text/plain": [
       "1693827717.6979103"
      ]
     },
     "execution_count": 7,
     "metadata": {},
     "output_type": "execute_result"
    }
   ],
   "source": [
    "time.time()"
   ]
  },
  {
   "cell_type": "code",
   "execution_count": 8,
   "id": "407a18b0-87ba-4c97-8a69-8be75a3d50cc",
   "metadata": {},
   "outputs": [
    {
     "data": {
      "text/plain": [
       "620241.8033483"
      ]
     },
     "execution_count": 8,
     "metadata": {},
     "output_type": "execute_result"
    }
   ],
   "source": [
    "time.perf_counter()"
   ]
  },
  {
   "cell_type": "code",
   "execution_count": 9,
   "id": "fda0d55b-cf67-4a9f-aa3d-f90db86b7957",
   "metadata": {},
   "outputs": [
    {
     "name": "stdout",
     "output_type": "stream",
     "text": [
      "1693827732.7539053\n",
      "1693827732.7539053\n",
      "1693827732.7539053\n",
      "1693827732.7539053\n",
      "1693827732.7539053\n"
     ]
    }
   ],
   "source": [
    "for _ in range(5):\n",
    "    print(time.time())"
   ]
  },
  {
   "cell_type": "code",
   "execution_count": 13,
   "id": "123ab341-5b13-45d9-b2e9-ac651b257b6a",
   "metadata": {},
   "outputs": [
    {
     "name": "stdout",
     "output_type": "stream",
     "text": [
      "3.00002284348011e-07\n",
      "3.00002284348011e-07\n",
      "2.00001522898674e-07\n",
      "2.00001522898674e-07\n",
      "2.00001522898674e-07\n"
     ]
    }
   ],
   "source": [
    "for _ in range(5):\n",
    "    x = time.perf_counter()\n",
    "    print(time.perf_counter() - x)"
   ]
  },
  {
   "cell_type": "code",
   "execution_count": null,
   "id": "6a7c26bf-dbb1-4755-8042-53f20ac537d5",
   "metadata": {},
   "outputs": [],
   "source": []
  }
 ],
 "metadata": {
  "kernelspec": {
   "display_name": "Python 3 (ipykernel)",
   "language": "python",
   "name": "python3"
  },
  "language_info": {
   "codemirror_mode": {
    "name": "ipython",
    "version": 3
   },
   "file_extension": ".py",
   "mimetype": "text/x-python",
   "name": "python",
   "nbconvert_exporter": "python",
   "pygments_lexer": "ipython3",
   "version": "3.10.9"
  }
 },
 "nbformat": 4,
 "nbformat_minor": 5
}
