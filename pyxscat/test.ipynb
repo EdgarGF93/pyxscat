{
 "cells": [
  {
   "cell_type": "code",
   "execution_count": 1,
   "metadata": {},
   "outputs": [
    {
     "name": "stderr",
     "output_type": "stream",
     "text": [
      "WARNING:pygix.transform:Unable to import pyFAI.ocl_azim: cannot import name 'ocl_azim' from 'pyFAI' (/media/edgar1993a/TOSHIBA EXT/venvs/py310_/lib/python3.10/site-packages/pyFAI/__init__.py)\n",
      "ERROR:pygix.transform:Unable to import pyFAI.ocl_azim_csr: cannot import name 'ocl_azim_csr' from 'pyFAI' (/media/edgar1993a/TOSHIBA EXT/venvs/py310_/lib/python3.10/site-packages/pyFAI/__init__.py)\n",
      "ERROR:pygix.transform:Unable to import pyFAI.ocl_azim_lut for: cannot import name 'ocl_azim_lut' from 'pyFAI' (/media/edgar1993a/TOSHIBA EXT/venvs/py310_/lib/python3.10/site-packages/pyFAI/__init__.py)\n",
      "ERROR:pygix.transform:Unable to import pyFAI.ocl_sort for: cannot import name 'ocl_sort' from 'pyFAI' (/media/edgar1993a/TOSHIBA EXT/venvs/py310_/lib/python3.10/site-packages/pyFAI/__init__.py)\n"
     ]
    }
   ],
   "source": [
    "from pyxscat.h5_integrator import H5GIIntegrator\n",
    "from collections import defaultdict"
   ]
  },
  {
   "cell_type": "code",
   "execution_count": 2,
   "metadata": {},
   "outputs": [],
   "source": [
    "h5 = H5GIIntegrator(\n",
    "    root_directory='/media/edgar1993a/TOSHIBA EXT/Datos_Sincrotrones/XMaS_May2023',\n",
    ")"
   ]
  },
  {
   "cell_type": "code",
   "execution_count": 3,
   "metadata": {},
   "outputs": [],
   "source": [
    "h5.update_new_data_fast()"
   ]
  },
  {
   "cell_type": "code",
   "execution_count": 4,
   "metadata": {},
   "outputs": [
    {
     "data": {
      "text/plain": [
       "[0.1,\n",
       " 0.1,\n",
       " 0.12,\n",
       " 0.1,\n",
       " 0.12,\n",
       " 0.1,\n",
       " 0.1,\n",
       " 0.12,\n",
       " 0.1,\n",
       " 0.12,\n",
       " 0.12,\n",
       " 0.1,\n",
       " 0.12,\n",
       " 0.1,\n",
       " 0.12,\n",
       " 0.1,\n",
       " 0.12,\n",
       " 0.1,\n",
       " 0.12]"
      ]
     },
     "execution_count": 4,
     "metadata": {},
     "output_type": "execute_result"
    }
   ],
   "source": [
    "h5.dict_data['/media/edgar1993a/TOSHIBA EXT/Datos_Sincrotrones/XMaS_May2023/MARCCD/PM6Y6_12_0CN_beamdamage']['eta']"
   ]
  },
  {
   "cell_type": "code",
   "execution_count": null,
   "metadata": {},
   "outputs": [],
   "source": []
  },
  {
   "cell_type": "code",
   "execution_count": 5,
   "metadata": {},
   "outputs": [],
   "source": [
    "dict_data = defaultdict(lambda : defaultdict(list))  "
   ]
  },
  {
   "cell_type": "code",
   "execution_count": 6,
   "metadata": {},
   "outputs": [],
   "source": [
    "dict_data['111']['11'].append(1)"
   ]
  },
  {
   "cell_type": "code",
   "execution_count": 7,
   "metadata": {},
   "outputs": [],
   "source": [
    "if dict_data['111'] == defaultdict(list):\n",
    "    print(1)"
   ]
  },
  {
   "cell_type": "code",
   "execution_count": null,
   "metadata": {},
   "outputs": [],
   "source": []
  },
  {
   "cell_type": "code",
   "execution_count": null,
   "metadata": {},
   "outputs": [],
   "source": []
  }
 ],
 "metadata": {
  "kernelspec": {
   "display_name": "py310_",
   "language": "python",
   "name": "python3"
  },
  "language_info": {
   "codemirror_mode": {
    "name": "ipython",
    "version": 3
   },
   "file_extension": ".py",
   "mimetype": "text/x-python",
   "name": "python",
   "nbconvert_exporter": "python",
   "pygments_lexer": "ipython3",
   "version": "3.10.0"
  }
 },
 "nbformat": 4,
 "nbformat_minor": 2
}
