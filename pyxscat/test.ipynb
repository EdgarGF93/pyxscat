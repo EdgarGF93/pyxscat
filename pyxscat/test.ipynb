{
 "cells": [
  {
   "cell_type": "code",
   "execution_count": 1,
   "metadata": {},
   "outputs": [
    {
     "name": "stderr",
     "output_type": "stream",
     "text": [
      "WARNING:pygix.transform:Unable to import pyFAI.ocl_azim: cannot import name 'ocl_azim' from 'pyFAI' (/media/edgar1993a/TOSHIBA EXT/venvs/py310_/lib/python3.10/site-packages/pyFAI/__init__.py)\n",
      "ERROR:pygix.transform:Unable to import pyFAI.ocl_azim_csr: cannot import name 'ocl_azim_csr' from 'pyFAI' (/media/edgar1993a/TOSHIBA EXT/venvs/py310_/lib/python3.10/site-packages/pyFAI/__init__.py)\n",
      "ERROR:pygix.transform:Unable to import pyFAI.ocl_azim_lut for: cannot import name 'ocl_azim_lut' from 'pyFAI' (/media/edgar1993a/TOSHIBA EXT/venvs/py310_/lib/python3.10/site-packages/pyFAI/__init__.py)\n",
      "ERROR:pygix.transform:Unable to import pyFAI.ocl_sort for: cannot import name 'ocl_sort' from 'pyFAI' (/media/edgar1993a/TOSHIBA EXT/venvs/py310_/lib/python3.10/site-packages/pyFAI/__init__.py)\n"
     ]
    }
   ],
   "source": [
    "from pyxscat.h5_integrator import H5GIIntegrator"
   ]
  },
  {
   "cell_type": "code",
   "execution_count": 2,
   "metadata": {},
   "outputs": [],
   "source": [
    "h5 = H5GIIntegrator(\n",
    "    root_directory='/media/edgar1993a/TOSHIBA EXT/Datos_Sincrotrones/ALBA_NCD_Sep2020',\n",
    ")"
   ]
  },
  {
   "cell_type": "code",
   "execution_count": 3,
   "metadata": {},
   "outputs": [],
   "source": [
    "db = h5.update_new_data()"
   ]
  },
  {
   "cell_type": "code",
   "execution_count": 4,
   "metadata": {},
   "outputs": [
    {
     "ename": "TypeError",
     "evalue": "No conversion path for dtype: dtype('<U91')",
     "output_type": "error",
     "traceback": [
      "\u001b[0;31m---------------------------------------------------------------------------\u001b[0m",
      "\u001b[0;31mTypeError\u001b[0m                                 Traceback (most recent call last)",
      "File \u001b[0;32m/home/edgar1993a/work/pyxscat/pyxscat/h5_integrator.py:1225\u001b[0m, in \u001b[0;36mH5GIIntegrator.save_h5_file\u001b[0;34m(self)\u001b[0m\n\u001b[1;32m   1224\u001b[0m \u001b[39mtry\u001b[39;00m:\n\u001b[0;32m-> 1225\u001b[0m     f[name_entry]\u001b[39m.\u001b[39;49mcreate_dataset(\n\u001b[1;32m   1226\u001b[0m         name\u001b[39m=\u001b[39;49mmetadata_key,\n\u001b[1;32m   1227\u001b[0m         data\u001b[39m=\u001b[39;49mnp\u001b[39m.\u001b[39;49marray(metadata_list),\n\u001b[1;32m   1228\u001b[0m     )\n\u001b[1;32m   1229\u001b[0m \u001b[39mexcept\u001b[39;00m:\n",
      "File \u001b[0;32m/media/edgar1993a/TOSHIBA EXT/venvs/py310_/lib/python3.10/site-packages/h5py/_hl/group.py:183\u001b[0m, in \u001b[0;36mGroup.create_dataset\u001b[0;34m(self, name, shape, dtype, data, **kwds)\u001b[0m\n\u001b[1;32m    181\u001b[0m         group \u001b[39m=\u001b[39m \u001b[39mself\u001b[39m\u001b[39m.\u001b[39mrequire_group(parent_path)\n\u001b[0;32m--> 183\u001b[0m dsid \u001b[39m=\u001b[39m dataset\u001b[39m.\u001b[39;49mmake_new_dset(group, shape, dtype, data, name, \u001b[39m*\u001b[39;49m\u001b[39m*\u001b[39;49mkwds)\n\u001b[1;32m    184\u001b[0m dset \u001b[39m=\u001b[39m dataset\u001b[39m.\u001b[39mDataset(dsid)\n",
      "File \u001b[0;32m/media/edgar1993a/TOSHIBA EXT/venvs/py310_/lib/python3.10/site-packages/h5py/_hl/dataset.py:86\u001b[0m, in \u001b[0;36mmake_new_dset\u001b[0;34m(parent, shape, dtype, data, name, chunks, compression, shuffle, fletcher32, maxshape, compression_opts, fillvalue, scaleoffset, track_times, external, track_order, dcpl, dapl, efile_prefix, virtual_prefix, allow_unknown_filter, rdcc_nslots, rdcc_nbytes, rdcc_w0)\u001b[0m\n\u001b[1;32m     85\u001b[0m         dtype \u001b[39m=\u001b[39m numpy\u001b[39m.\u001b[39mdtype(dtype)\n\u001b[0;32m---> 86\u001b[0m     tid \u001b[39m=\u001b[39m h5t\u001b[39m.\u001b[39;49mpy_create(dtype, logical\u001b[39m=\u001b[39;49m\u001b[39m1\u001b[39;49m)\n\u001b[1;32m     88\u001b[0m \u001b[39m# Legacy\u001b[39;00m\n",
      "File \u001b[0;32mh5py/h5t.pyx:1658\u001b[0m, in \u001b[0;36mh5py.h5t.py_create\u001b[0;34m()\u001b[0m\n",
      "File \u001b[0;32mh5py/h5t.pyx:1682\u001b[0m, in \u001b[0;36mh5py.h5t.py_create\u001b[0;34m()\u001b[0m\n",
      "File \u001b[0;32mh5py/h5t.pyx:1748\u001b[0m, in \u001b[0;36mh5py.h5t.py_create\u001b[0;34m()\u001b[0m\n",
      "\u001b[0;31mTypeError\u001b[0m: No conversion path for dtype: dtype('<U91')",
      "\nDuring handling of the above exception, another exception occurred:\n",
      "\u001b[0;31mTypeError\u001b[0m                                 Traceback (most recent call last)",
      "\u001b[1;32m/home/edgar1993a/work/pyxscat/pyxscat/test.ipynb Cell 4\u001b[0m line \u001b[0;36m1\n\u001b[0;32m----> <a href='vscode-notebook-cell:/home/edgar1993a/work/pyxscat/pyxscat/test.ipynb#X20sZmlsZQ%3D%3D?line=0'>1</a>\u001b[0m h5\u001b[39m.\u001b[39;49msave_h5_file()\n",
      "File \u001b[0;32m/home/edgar1993a/work/pyxscat/pyxscat/h5_integrator.py:100\u001b[0m, in \u001b[0;36mlogger_info.<locals>.wrapper\u001b[0;34m(*args, **kwargs)\u001b[0m\n\u001b[1;32m     98\u001b[0m \u001b[39mdef\u001b[39;00m \u001b[39mwrapper\u001b[39m(\u001b[39m*\u001b[39margs, \u001b[39m*\u001b[39m\u001b[39m*\u001b[39mkwargs):\n\u001b[1;32m     99\u001b[0m     logger\u001b[39m.\u001b[39minfo(\u001b[39mf\u001b[39m\u001b[39m'\u001b[39m\u001b[39mWe entered into function: \u001b[39m\u001b[39m{\u001b[39;00mfunc\u001b[39m.\u001b[39m\u001b[39m__name__\u001b[39m\u001b[39m}\u001b[39;00m\u001b[39m'\u001b[39m)\n\u001b[0;32m--> 100\u001b[0m     \u001b[39mreturn\u001b[39;00m func(\u001b[39m*\u001b[39;49margs, \u001b[39m*\u001b[39;49m\u001b[39m*\u001b[39;49mkwargs)\n",
      "File \u001b[0;32m/home/edgar1993a/work/pyxscat/pyxscat/h5_integrator.py:1230\u001b[0m, in \u001b[0;36mH5GIIntegrator.save_h5_file\u001b[0;34m(self)\u001b[0m\n\u001b[1;32m   1225\u001b[0m     f[name_entry]\u001b[39m.\u001b[39mcreate_dataset(\n\u001b[1;32m   1226\u001b[0m         name\u001b[39m=\u001b[39mmetadata_key,\n\u001b[1;32m   1227\u001b[0m         data\u001b[39m=\u001b[39mnp\u001b[39m.\u001b[39marray(metadata_list),\n\u001b[1;32m   1228\u001b[0m     )\n\u001b[1;32m   1229\u001b[0m \u001b[39mexcept\u001b[39;00m:\n\u001b[0;32m-> 1230\u001b[0m     f[name_entry]\u001b[39m.\u001b[39;49mcreate_dataset(\n\u001b[1;32m   1231\u001b[0m         name\u001b[39m=\u001b[39;49mmetadata_key,\n\u001b[1;32m   1232\u001b[0m         data\u001b[39m=\u001b[39;49mnp\u001b[39m.\u001b[39;49marray(metadata_list),\n\u001b[1;32m   1233\u001b[0m         dtype\u001b[39m=\u001b[39;49mFORMAT_STRING,\n\u001b[1;32m   1234\u001b[0m     )\n",
      "File \u001b[0;32m/media/edgar1993a/TOSHIBA EXT/venvs/py310_/lib/python3.10/site-packages/h5py/_hl/group.py:183\u001b[0m, in \u001b[0;36mGroup.create_dataset\u001b[0;34m(self, name, shape, dtype, data, **kwds)\u001b[0m\n\u001b[1;32m    180\u001b[0m         parent_path, name \u001b[39m=\u001b[39m name\u001b[39m.\u001b[39mrsplit(\u001b[39mb\u001b[39m\u001b[39m'\u001b[39m\u001b[39m/\u001b[39m\u001b[39m'\u001b[39m, \u001b[39m1\u001b[39m)\n\u001b[1;32m    181\u001b[0m         group \u001b[39m=\u001b[39m \u001b[39mself\u001b[39m\u001b[39m.\u001b[39mrequire_group(parent_path)\n\u001b[0;32m--> 183\u001b[0m dsid \u001b[39m=\u001b[39m dataset\u001b[39m.\u001b[39;49mmake_new_dset(group, shape, dtype, data, name, \u001b[39m*\u001b[39;49m\u001b[39m*\u001b[39;49mkwds)\n\u001b[1;32m    184\u001b[0m dset \u001b[39m=\u001b[39m dataset\u001b[39m.\u001b[39mDataset(dsid)\n\u001b[1;32m    185\u001b[0m \u001b[39mreturn\u001b[39;00m dset\n",
      "File \u001b[0;32m/media/edgar1993a/TOSHIBA EXT/venvs/py310_/lib/python3.10/site-packages/h5py/_hl/dataset.py:166\u001b[0m, in \u001b[0;36mmake_new_dset\u001b[0;34m(parent, shape, dtype, data, name, chunks, compression, shuffle, fletcher32, maxshape, compression_opts, fillvalue, scaleoffset, track_times, external, track_order, dcpl, dapl, efile_prefix, virtual_prefix, allow_unknown_filter, rdcc_nslots, rdcc_nbytes, rdcc_w0)\u001b[0m\n\u001b[1;32m    163\u001b[0m dset_id \u001b[39m=\u001b[39m h5d\u001b[39m.\u001b[39mcreate(parent\u001b[39m.\u001b[39mid, name, tid, sid, dcpl\u001b[39m=\u001b[39mdcpl, dapl\u001b[39m=\u001b[39mdapl)\n\u001b[1;32m    165\u001b[0m \u001b[39mif\u001b[39;00m (data \u001b[39mis\u001b[39;00m \u001b[39mnot\u001b[39;00m \u001b[39mNone\u001b[39;00m) \u001b[39mand\u001b[39;00m (\u001b[39mnot\u001b[39;00m \u001b[39misinstance\u001b[39m(data, Empty)):\n\u001b[0;32m--> 166\u001b[0m     dset_id\u001b[39m.\u001b[39;49mwrite(h5s\u001b[39m.\u001b[39;49mALL, h5s\u001b[39m.\u001b[39;49mALL, data)\n\u001b[1;32m    168\u001b[0m \u001b[39mreturn\u001b[39;00m dset_id\n",
      "File \u001b[0;32mh5py/_objects.pyx:54\u001b[0m, in \u001b[0;36mh5py._objects.with_phil.wrapper\u001b[0;34m()\u001b[0m\n",
      "File \u001b[0;32mh5py/_objects.pyx:55\u001b[0m, in \u001b[0;36mh5py._objects.with_phil.wrapper\u001b[0;34m()\u001b[0m\n",
      "File \u001b[0;32mh5py/h5d.pyx:272\u001b[0m, in \u001b[0;36mh5py.h5d.DatasetID.write\u001b[0;34m()\u001b[0m\n",
      "File \u001b[0;32mh5py/h5t.pyx:1682\u001b[0m, in \u001b[0;36mh5py.h5t.py_create\u001b[0;34m()\u001b[0m\n",
      "File \u001b[0;32mh5py/h5t.pyx:1748\u001b[0m, in \u001b[0;36mh5py.h5t.py_create\u001b[0;34m()\u001b[0m\n",
      "\u001b[0;31mTypeError\u001b[0m: No conversion path for dtype: dtype('<U91')"
     ]
    }
   ],
   "source": [
    "h5.save_h5_file()"
   ]
  },
  {
   "cell_type": "code",
   "execution_count": null,
   "metadata": {},
   "outputs": [],
   "source": []
  }
 ],
 "metadata": {
  "kernelspec": {
   "display_name": "py310_",
   "language": "python",
   "name": "python3"
  },
  "language_info": {
   "codemirror_mode": {
    "name": "ipython",
    "version": 3
   },
   "file_extension": ".py",
   "mimetype": "text/x-python",
   "name": "python",
   "nbconvert_exporter": "python",
   "pygments_lexer": "ipython3",
   "version": "3.10.0"
  }
 },
 "nbformat": 4,
 "nbformat_minor": 2
}
