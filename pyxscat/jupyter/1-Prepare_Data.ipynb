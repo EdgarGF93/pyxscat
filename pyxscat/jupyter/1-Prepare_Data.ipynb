{
 "cells": [
  {
   "cell_type": "markdown",
   "id": "b14d4369",
   "metadata": {},
   "source": [
    "# This Jupyter Notebook will generate a .json file to manage the data taken with a specific setup"
   ]
  },
  {
   "cell_type": "markdown",
   "id": "1f41b256",
   "metadata": {},
   "source": [
    "##### Import the search functions"
   ]
  },
  {
   "cell_type": "code",
   "execution_count": 1,
   "id": "5a1e2500",
   "metadata": {},
   "outputs": [],
   "source": [
    "from modules.search_functions import generate_folders_txt, generate_files_txt, json_from_textfile, json_from_conditions"
   ]
  },
  {
   "cell_type": "markdown",
   "id": "6ede4412",
   "metadata": {},
   "source": [
    "##### Define the main directory, and the list of conditions for the filenames"
   ]
  },
  {
   "cell_type": "code",
   "execution_count": 2,
   "id": "575bd318",
   "metadata": {},
   "outputs": [],
   "source": [
    "main_dir = r'D:\\Datos_Sincrotrones\\ALBA_NCD_Nov2022\\PROCESSED'\n",
    "conditions = ['.edf']\n",
    "name = 'ref'"
   ]
  },
  {
   "cell_type": "markdown",
   "id": "508cb43b",
   "metadata": {},
   "source": [
    "##### Create a text file with the folders in which the files to be processed are stored"
   ]
  },
  {
   "cell_type": "code",
   "execution_count": null,
   "id": "b4dd3b4b",
   "metadata": {},
   "outputs": [],
   "source": [
    "generate_folders_txt(main_dir, output_name=f\"folders_{name}\", name_conds=['.edf'])"
   ]
  },
  {
   "cell_type": "markdown",
   "id": "7cebb105",
   "metadata": {},
   "source": [
    "##### Create a text file with all the files to be processed"
   ]
  },
  {
   "cell_type": "code",
   "execution_count": null,
   "id": "513f7139",
   "metadata": {},
   "outputs": [],
   "source": [
    "generate_files_txt(main_dir, folders=f\"folders_{name}\", output_name=f\"files_{name}\", name_conds=['.edf'])"
   ]
  },
  {
   "cell_type": "markdown",
   "id": "2eaeed31",
   "metadata": {},
   "source": [
    "##### Finally, create a json file with all the required information to launch pyFAI in batch mode"
   ]
  },
  {
   "cell_type": "code",
   "execution_count": null,
   "id": "fa832c80",
   "metadata": {},
   "outputs": [],
   "source": [
    "ponifile = 'Cr2O3.poni'\n",
    "beamline = 'ncd'\n",
    "rotated = True"
   ]
  },
  {
   "cell_type": "code",
   "execution_count": null,
   "id": "c228d593",
   "metadata": {},
   "outputs": [],
   "source": [
    "json_from_textfile(main_dir, files=f\"files_s\", files_ref=f\"files_ref\",ponifile=ponifile, beamline=beamline, rotated=rotated)"
   ]
  },
  {
   "cell_type": "code",
   "execution_count": null,
   "id": "74d65353",
   "metadata": {},
   "outputs": [],
   "source": []
  },
  {
   "cell_type": "code",
   "execution_count": 3,
   "id": "006ebf94",
   "metadata": {},
   "outputs": [],
   "source": [
    "json_from_conditions(\n",
    "    main_dir=main_dir,\n",
    "    subfolder_samples='Pm6Y6',\n",
    "    subfolder_references='Air_background',\n",
    "    ponifile='cr2O3.poni',\n",
    "    beamline='ncd',\n",
    ")"
   ]
  }
 ],
 "metadata": {
  "kernelspec": {
   "display_name": "Python 3 (ipykernel)",
   "language": "python",
   "name": "python3"
  },
  "language_info": {
   "codemirror_mode": {
    "name": "ipython",
    "version": 3
   },
   "file_extension": ".py",
   "mimetype": "text/x-python",
   "name": "python",
   "nbconvert_exporter": "python",
   "pygments_lexer": "ipython3",
   "version": "3.10.2"
  },
  "vscode": {
   "interpreter": {
    "hash": "8c3d4d9970fc5c09c50d9318a9c7fbf4d0159e4b28833276f5678ee22bded273"
   }
  }
 },
 "nbformat": 4,
 "nbformat_minor": 5
}
