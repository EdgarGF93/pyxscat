{
 "cells": [
  {
   "cell_type": "code",
   "execution_count": 1,
   "id": "ce7fb18b",
   "metadata": {},
   "outputs": [
    {
     "name": "stderr",
     "output_type": "stream",
     "text": [
      "WARNING:pygix.transform:Unable to import pyFAI.ocl_azim: cannot import name 'ocl_azim' from 'pyFAI' (C:\\ProgramData\\Anaconda3\\envs\\edgar\\lib\\site-packages\\pyFAI\\__init__.py)\n",
      "ERROR:pygix.transform:Unable to import pyFAI.ocl_azim_csr: cannot import name 'ocl_azim_csr' from 'pyFAI' (C:\\ProgramData\\Anaconda3\\envs\\edgar\\lib\\site-packages\\pyFAI\\__init__.py)\n",
      "ERROR:pygix.transform:Unable to import pyFAI.ocl_azim_lut for: cannot import name 'ocl_azim_lut' from 'pyFAI' (C:\\ProgramData\\Anaconda3\\envs\\edgar\\lib\\site-packages\\pyFAI\\__init__.py)\n",
      "ERROR:pygix.transform:Unable to import pyFAI.ocl_sort for: cannot import name 'ocl_sort' from 'pyFAI' (C:\\ProgramData\\Anaconda3\\envs\\edgar\\lib\\site-packages\\pyFAI\\__init__.py)\n"
     ]
    }
   ],
   "source": [
    "from integrator import Integrator"
   ]
  },
  {
   "cell_type": "code",
   "execution_count": 12,
   "id": "7094c260",
   "metadata": {},
   "outputs": [],
   "source": [
    "integrator = Integrator(\n",
    "    main_dir=r'C:\\Users\\edgar1993a\\Work Folders\\Documents\\Python\\pyxscat\\pyxscat\\test\\test_NCD',\n",
    "    extension='.edf',\n",
    "    wildcards='*',\n",
    "    rotated=False,\n",
    "    qz_parallel=True,\n",
    "    qr_parallel=False,\n",
    "    ponifile_path=r'C:\\Users\\edgar1993a\\Work Folders\\Documents\\Python\\pyxscat\\pyxscat\\test\\test_NCD\\Cr2O3.poni',\n",
    "    name_setup='ALBA_NCD',\n",
    ")"
   ]
  },
  {
   "cell_type": "code",
   "execution_count": 13,
   "id": "31b0cd7f",
   "metadata": {},
   "outputs": [
    {
     "data": {
      "text/plain": [
       "{'Name': 'ALBA_NCD',\n",
       " 'Angle': 'spitch',\n",
       " 'Tilt angle': 'sroll',\n",
       " 'Norm': 'Monitor',\n",
       " 'Exposure': 'exposure'}"
      ]
     },
     "execution_count": 13,
     "metadata": {},
     "output_type": "execute_result"
    }
   ],
   "source": [
    "integrator._dict_setup"
   ]
  },
  {
   "cell_type": "code",
   "execution_count": 14,
   "id": "6f7d3eab",
   "metadata": {},
   "outputs": [
    {
     "data": {
      "text/plain": [
       "['C:\\\\Users\\\\edgar1993a\\\\Work Folders\\\\Documents\\\\Python\\\\pyxscat\\\\pyxscat\\\\test\\\\test_NCD\\\\A1\\\\rayonix_A1_spitch_0.12_000_0000.edf',\n",
       " 'C:\\\\Users\\\\edgar1993a\\\\Work Folders\\\\Documents\\\\Python\\\\pyxscat\\\\pyxscat\\\\test\\\\test_NCD\\\\A1\\\\rayonix_A1_spitch_0.15_000_0000.edf',\n",
       " 'C:\\\\Users\\\\edgar1993a\\\\Work Folders\\\\Documents\\\\Python\\\\pyxscat\\\\pyxscat\\\\test\\\\test_NCD\\\\A1\\\\rayonix_A1_spitch_0.1_000_0000.edf',\n",
       " 'C:\\\\Users\\\\edgar1993a\\\\Work Folders\\\\Documents\\\\Python\\\\pyxscat\\\\pyxscat\\\\test\\\\test_NCD\\\\A1\\\\rayonix_A1_spitch_0.2_000_0000.edf',\n",
       " 'C:\\\\Users\\\\edgar1993a\\\\Work Folders\\\\Documents\\\\Python\\\\pyxscat\\\\pyxscat\\\\test\\\\test_NCD\\\\Reference\\\\10s\\\\rayonix_10s_spitch_0.12_000_0000.edf',\n",
       " 'C:\\\\Users\\\\edgar1993a\\\\Work Folders\\\\Documents\\\\Python\\\\pyxscat\\\\pyxscat\\\\test\\\\test_NCD\\\\Reference\\\\1s\\\\rayonix_1s_000_0000.edf',\n",
       " 'C:\\\\Users\\\\edgar1993a\\\\Work Folders\\\\Documents\\\\Python\\\\pyxscat\\\\pyxscat\\\\test\\\\test_NCD\\\\Reference\\\\5s\\\\rayonix_5s_spitch_0.12_000_0000.edf']"
      ]
     },
     "execution_count": 14,
     "metadata": {},
     "output_type": "execute_result"
    }
   ],
   "source": [
    "integrator.get_list_files()"
   ]
  },
  {
   "cell_type": "code",
   "execution_count": null,
   "id": "6e909d62",
   "metadata": {},
   "outputs": [],
   "source": []
  },
  {
   "cell_type": "code",
   "execution_count": null,
   "id": "719d6dbd",
   "metadata": {},
   "outputs": [],
   "source": []
  },
  {
   "cell_type": "code",
   "execution_count": null,
   "id": "ca3846f0",
   "metadata": {},
   "outputs": [],
   "source": []
  },
  {
   "cell_type": "code",
   "execution_count": null,
   "id": "ed6da128",
   "metadata": {},
   "outputs": [],
   "source": []
  },
  {
   "cell_type": "code",
   "execution_count": null,
   "id": "3649d579",
   "metadata": {},
   "outputs": [],
   "source": []
  },
  {
   "cell_type": "code",
   "execution_count": null,
   "id": "6d86176d",
   "metadata": {},
   "outputs": [],
   "source": []
  },
  {
   "cell_type": "code",
   "execution_count": null,
   "id": "1ac98181",
   "metadata": {},
   "outputs": [],
   "source": []
  },
  {
   "cell_type": "code",
   "execution_count": null,
   "id": "64a37233",
   "metadata": {},
   "outputs": [],
   "source": []
  },
  {
   "cell_type": "code",
   "execution_count": null,
   "id": "1ad402bd",
   "metadata": {},
   "outputs": [],
   "source": []
  },
  {
   "cell_type": "code",
   "execution_count": null,
   "id": "37ecd4c0",
   "metadata": {},
   "outputs": [],
   "source": []
  },
  {
   "cell_type": "code",
   "execution_count": 2,
   "id": "e252b974",
   "metadata": {},
   "outputs": [],
   "source": [
    "dd = {'Name': 'ALBA_NCD', 'Angle': 'spitch', 'Tilt angle': 'sroll', 'Norm': 'Monitor', 'Exposure': 'exposure'}"
   ]
  },
  {
   "cell_type": "code",
   "execution_count": 3,
   "id": "f71592a0",
   "metadata": {},
   "outputs": [
    {
     "data": {
      "text/plain": [
       "{'Name': 'ALBA_NCD',\n",
       " 'Angle': 'spitch',\n",
       " 'Tilt angle': 'sroll',\n",
       " 'Norm': 'Monitor',\n",
       " 'Exposure': 'exposure'}"
      ]
     },
     "execution_count": 3,
     "metadata": {},
     "output_type": "execute_result"
    }
   ],
   "source": [
    "dd"
   ]
  },
  {
   "cell_type": "code",
   "execution_count": 13,
   "id": "5fc9d9ab",
   "metadata": {},
   "outputs": [
    {
     "name": "stdout",
     "output_type": "stream",
     "text": [
      "kokoko\n",
      "holaaaa\n",
      "{}\n"
     ]
    }
   ],
   "source": [
    "from edf import EdfClass\n",
    "filename = r'C:\\Users\\edgar1993a\\Work Folders\\Documents\\Python\\pyxscat\\pyxscat\\test\\test_NCD\\A1\\rayonix_A1_spitch_0.1_000_0000.edf'\n",
    "ponifile = r'C:\\Users\\edgar1993a\\Work Folders\\Documents\\Python\\pyxscat\\pyxscat\\test\\test_NCD\\Cr2O3.poni'\n",
    "\n",
    "# filename = r'C:\\Users\\edgar1993a\\Desktop\\test\\test_xmas\\uuu\\Y6_p2_r00017_n0977_p003.edf'\n",
    "# ponifile = r'C:\\Users\\edgar1993a\\Desktop\\test\\test_xmas\\LaB6\\LaB6.poni'\n",
    "\n",
    "# filename =  r'C:\\Users\\edgar1993a\\Work Folders\\Documents\\Python\\pyxscat\\pyxscat\\test\\test_DUBBLE\\D18_1_100C_def\\SAXS\\D18_1_100C_def_SAXS_0001.edf'\n",
    "# ponifile = r'C:\\Users\\edgar1993a\\Work Folders\\Documents\\Python\\pyxscat\\pyxscat\\test\\test_DUBBLE\\AgBh_2.poni'\n",
    "\n",
    "edf = EdfClass(\n",
    "    filename=filename,\n",
    "#     dict_setup=dd,\n",
    "#     ponifile_path=ponifile,\n",
    "# #     rotated=False,\n",
    "#     qz_parallel=False,\n",
    "#     qr_parallel=True,\n",
    "# #     name_setup='ESRF_XMaS',\n",
    "#     name_setup='ALBA_NCD',\n",
    ")\n",
    "\n",
    "edf.plot_Qmesh(unit='nm')"
   ]
  },
  {
   "cell_type": "code",
   "execution_count": 14,
   "id": "de19dfc0",
   "metadata": {},
   "outputs": [
    {
     "data": {
      "image/png": "[encoded data removed]",
      "text/plain": [
       "<Figure size 700x700 with 2 Axes>"
      ]
     },
     "metadata": {},
     "output_type": "display_data"
    }
   ],
   "source": [
    "edf.plot_data()"
   ]
  },
  {
   "cell_type": "code",
   "execution_count": 6,
   "id": "c0eda22f",
   "metadata": {},
   "outputs": [],
   "source": [
    "edf.plot_Qmesh(unit='nm')"
   ]
  }
 ],
 "metadata": {
  "kernelspec": {
   "display_name": "Python 3 (ipykernel)",
   "language": "python",
   "name": "python3"
  },
  "language_info": {
   "codemirror_mode": {
    "name": "ipython",
    "version": 3
   },
   "file_extension": ".py",
   "mimetype": "text/x-python",
   "name": "python",
   "nbconvert_exporter": "python",
   "pygments_lexer": "ipython3",
   "version": "3.10.9"
  }
 },
 "nbformat": 4,
 "nbformat_minor": 5
}
