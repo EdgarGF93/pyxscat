{
 "cells": [
  {
   "cell_type": "code",
   "execution_count": 14,
   "id": "e037b9f3",
   "metadata": {},
   "outputs": [],
   "source": [
    "from jupyterlab_h5web import H5Web"
   ]
  },
  {
   "cell_type": "code",
   "execution_count": 23,
   "id": "76db3470-74e1-47f6-9d2d-0004a69070d3",
   "metadata": {},
   "outputs": [],
   "source": [
    "H5_FILE = r'C:\\Users\\edgar1993a\\Work Folders\\Documents\\Python\\pyxscat\\pyxscat\\test\\test_edf\\test_NCD\\test_NCD.h5'"
   ]
  },
  {
   "cell_type": "code",
   "execution_count": 25,
   "id": "263f61d6",
   "metadata": {},
   "outputs": [
    {
     "data": {
      "application/x-hdf5": "C:\\Users\\edgar1993a\\Work Folders\\Documents\\Python\\pyxscat\\pyxscat\\test\\test_edf\\test_NCD\\test_NCD.h5",
      "text/plain": [
       "<jupyterlab_h5web.widget.H5Web object>"
      ]
     },
     "execution_count": 25,
     "metadata": {},
     "output_type": "execute_result"
    }
   ],
   "source": [
    "H5Web(H5_FILE)"
   ]
  },
  {
   "cell_type": "code",
   "execution_count": null,
   "id": "ff1be95d-25fb-4436-912d-d0de6e1dc7cd",
   "metadata": {},
   "outputs": [],
   "source": []
  }
 ],
 "metadata": {
  "kernelspec": {
   "display_name": "Python 3 (ipykernel)",
   "language": "python",
   "name": "python3"
  },
  "language_info": {
   "codemirror_mode": {
    "name": "ipython",
    "version": 3
   },
   "file_extension": ".py",
   "mimetype": "text/x-python",
   "name": "python",
   "nbconvert_exporter": "python",
   "pygments_lexer": "ipython3",
   "version": "3.10.9"
  }
 },
 "nbformat": 4,
 "nbformat_minor": 5
}
