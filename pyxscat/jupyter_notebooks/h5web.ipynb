{
 "cells": [
  {
   "cell_type": "code",
   "execution_count": 21,
   "id": "e037b9f3",
   "metadata": {},
   "outputs": [],
   "source": [
    "from jupyterlab_h5web import H5Web"
   ]
  },
  {
   "cell_type": "code",
   "execution_count": 22,
   "id": "263f61d6",
   "metadata": {},
   "outputs": [
    {
     "data": {
      "application/x-hdf5": "E:\\Datos_Sincrotrones\\XMaS_May2023\\MARCCD\\MARCCD.h5",
      "text/plain": [
       "<jupyterlab_h5web.widget.H5Web object>"
      ]
     },
     "execution_count": 22,
     "metadata": {},
     "output_type": "execute_result"
    }
   ],
   "source": [
    "H5Web('E:\\Datos_Sincrotrones\\XMaS_May2023\\MARCCD\\MARCCD.h5')"
   ]
  },
  {
   "cell_type": "code",
   "execution_count": 4,
   "id": "1c42ea0a-5b68-4289-9c75-75c6d006930b",
   "metadata": {},
   "outputs": [
    {
     "data": {
      "application/x-hdf5": "E:\\Datos_Sincrotrones\\XMaS_May2023\\MARCCD\\MARCCD.h5",
      "text/plain": [
       "<jupyterlab_h5web.widget.H5Web object>"
      ]
     },
     "execution_count": 4,
     "metadata": {},
     "output_type": "execute_result"
    }
   ],
   "source": [
    "H5Web('E:\\Datos_Sincrotrones\\XMaS_May2023\\MARCCD\\MARCCD.h5')"
   ]
  },
  {
   "cell_type": "code",
   "execution_count": null,
   "id": "4cc148bd-36c5-449f-b521-f0c5cae37bb3",
   "metadata": {},
   "outputs": [],
   "source": []
  },
  {
   "cell_type": "code",
   "execution_count": null,
   "id": "1b4827d5-626e-4dad-9f1f-fa720a034a84",
   "metadata": {},
   "outputs": [],
   "source": []
  }
 ],
 "metadata": {
  "kernelspec": {
   "display_name": "Python 3 (ipykernel)",
   "language": "python",
   "name": "python3"
  },
  "language_info": {
   "codemirror_mode": {
    "name": "ipython",
    "version": 3
   },
   "file_extension": ".py",
   "mimetype": "text/x-python",
   "name": "python",
   "nbconvert_exporter": "python",
   "pygments_lexer": "ipython3",
   "version": "3.10.9"
  }
 },
 "nbformat": 4,
 "nbformat_minor": 5
}
