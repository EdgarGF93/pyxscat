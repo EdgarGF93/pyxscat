{
 "cells": [
  {
   "cell_type": "code",
   "execution_count": 1,
   "id": "baa6f5c0-34ad-4039-91ad-2b25804a57d4",
   "metadata": {},
   "outputs": [
    {
     "name": "stderr",
     "output_type": "stream",
     "text": [
      "WARNING:pygix.transform:Unable to import pyFAI.ocl_azim: cannot import name 'ocl_azim' from 'pyFAI' (C:\\ProgramData\\Anaconda3\\envs\\edgar\\lib\\site-packages\\pyFAI\\__init__.py)\n",
      "ERROR:pygix.transform:Unable to import pyFAI.ocl_azim_csr: cannot import name 'ocl_azim_csr' from 'pyFAI' (C:\\ProgramData\\Anaconda3\\envs\\edgar\\lib\\site-packages\\pyFAI\\__init__.py)\n",
      "ERROR:pygix.transform:Unable to import pyFAI.ocl_azim_lut for: cannot import name 'ocl_azim_lut' from 'pyFAI' (C:\\ProgramData\\Anaconda3\\envs\\edgar\\lib\\site-packages\\pyFAI\\__init__.py)\n",
      "ERROR:pygix.transform:Unable to import pyFAI.ocl_sort for: cannot import name 'ocl_sort' from 'pyFAI' (C:\\ProgramData\\Anaconda3\\envs\\edgar\\lib\\site-packages\\pyFAI\\__init__.py)\n"
     ]
    }
   ],
   "source": [
    "from pyxscat.h5_integrator import H5GIIntegrator\n",
    "from pathlib import Path\n",
    "from silx.io import nxdata\n",
    "from silx.io import h5py_utils\n",
    "PATH = r'C:\\Users\\edgar1993a\\Work Folders\\Documents\\Python\\pyxscat\\pyxscat\\test\\test_edf\\test_NCD'\n",
    "h5 = H5GIIntegrator(root_directory=PATH)"
   ]
  },
  {
   "cell_type": "code",
   "execution_count": 2,
   "id": "c6d08521-4f1f-4fbe-b602-cafb2c8b69fa",
   "metadata": {},
   "outputs": [],
   "source": [
    "h5.update_datafiles(search=True)"
   ]
  },
  {
   "cell_type": "code",
   "execution_count": 3,
   "id": "c1acdd4d-f754-4145-bfd6-97ed475402ac",
   "metadata": {},
   "outputs": [],
   "source": [
    "h5.update_ponifiles()"
   ]
  },
  {
   "cell_type": "code",
   "execution_count": 13,
   "id": "8a017b1b-2e2b-4265-9e03-ba24f6222c96",
   "metadata": {},
   "outputs": [],
   "source": [
    "h5.get_entry_name('entry_0002')"
   ]
  },
  {
   "cell_type": "code",
   "execution_count": 4,
   "id": "280d8555-3f70-4d74-901f-12988372ff52",
   "metadata": {},
   "outputs": [
    {
     "data": {
      "text/plain": [
       "'C:/Users/edgar1993a/Work Folders/Documents/Python/pyxscat/pyxscat/test/test_edf/test_NCD/Reference'"
      ]
     },
     "execution_count": 4,
     "metadata": {},
     "output_type": "execute_result"
    }
   ],
   "source": [
    "h5.get_sample_address(entry_name='entry_0001', get_relative_address=False)"
   ]
  },
  {
   "cell_type": "code",
   "execution_count": null,
   "id": "c77bbb22-e534-4fd4-bd2c-f4bd656ff513",
   "metadata": {},
   "outputs": [],
   "source": []
  },
  {
   "cell_type": "code",
   "execution_count": null,
   "id": "519a1a68-5d7d-40ce-9541-78552b3cfced",
   "metadata": {},
   "outputs": [],
   "source": []
  },
  {
   "cell_type": "code",
   "execution_count": null,
   "id": "5011f753-6db3-42ba-825d-d9550e17bf07",
   "metadata": {},
   "outputs": [],
   "source": []
  },
  {
   "cell_type": "code",
   "execution_count": 14,
   "id": "5c9d6d9e-b6af-443e-a975-4738b2b8bcb8",
   "metadata": {},
   "outputs": [
    {
     "data": {
      "text/html": [
       "<div>\n",
       "<style scoped>\n",
       "    .dataframe tbody tr th:only-of-type {\n",
       "        vertical-align: middle;\n",
       "    }\n",
       "\n",
       "    .dataframe tbody tr th {\n",
       "        vertical-align: top;\n",
       "    }\n",
       "\n",
       "    .dataframe thead th {\n",
       "        text-align: right;\n",
       "    }\n",
       "</style>\n",
       "<table border=\"1\" class=\"dataframe\">\n",
       "  <thead>\n",
       "    <tr style=\"text-align: right;\">\n",
       "      <th></th>\n",
       "      <th>filename</th>\n",
       "      <th>spitch</th>\n",
       "      <th>Monitor</th>\n",
       "    </tr>\n",
       "  </thead>\n",
       "  <tbody>\n",
       "    <tr>\n",
       "      <th>0</th>\n",
       "      <td>rayonix_A1_spitch_0.15_000_0000.edf</td>\n",
       "      <td>0.15</td>\n",
       "      <td>2018.734168</td>\n",
       "    </tr>\n",
       "    <tr>\n",
       "      <th>1</th>\n",
       "      <td>rayonix_A1_spitch_0.12_000_0000.edf</td>\n",
       "      <td>0.12</td>\n",
       "      <td>2019.056882</td>\n",
       "    </tr>\n",
       "    <tr>\n",
       "      <th>2</th>\n",
       "      <td>rayonix_A1_spitch_0.1_000_0000.edf</td>\n",
       "      <td>0.10</td>\n",
       "      <td>2019.455155</td>\n",
       "    </tr>\n",
       "    <tr>\n",
       "      <th>3</th>\n",
       "      <td>rayonix_A1_spitch_0.2_000_0000.edf</td>\n",
       "      <td>0.20</td>\n",
       "      <td>2018.442513</td>\n",
       "    </tr>\n",
       "  </tbody>\n",
       "</table>\n",
       "</div>"
      ],
      "text/plain": [
       "                              filename  spitch      Monitor\n",
       "0  rayonix_A1_spitch_0.15_000_0000.edf    0.15  2018.734168\n",
       "1  rayonix_A1_spitch_0.12_000_0000.edf    0.12  2019.056882\n",
       "2   rayonix_A1_spitch_0.1_000_0000.edf    0.10  2019.455155\n",
       "3   rayonix_A1_spitch_0.2_000_0000.edf    0.20  2018.442513"
      ]
     },
     "execution_count": 14,
     "metadata": {},
     "output_type": "execute_result"
    }
   ],
   "source": [
    "h5.get_metadata_dataframe(sample_name='A1', list_keys=['spitch', 'Monitor'])"
   ]
  },
  {
   "cell_type": "code",
   "execution_count": null,
   "id": "ffec0c74-0d49-46c1-a5e1-b3739c312c53",
   "metadata": {},
   "outputs": [],
   "source": []
  },
  {
   "cell_type": "code",
   "execution_count": null,
   "id": "d06e832a-09bc-4236-b66a-a0fa90a1d66c",
   "metadata": {},
   "outputs": [],
   "source": []
  },
  {
   "cell_type": "code",
   "execution_count": null,
   "id": "c4bc5bc6-6550-48bd-a4ae-4a7b1021ada6",
   "metadata": {},
   "outputs": [],
   "source": []
  },
  {
   "cell_type": "code",
   "execution_count": null,
   "id": "6eab4d6e-107a-45e9-a305-eb5dc123c5cb",
   "metadata": {},
   "outputs": [],
   "source": []
  },
  {
   "cell_type": "code",
   "execution_count": 4,
   "id": "ef01ebe0-0731-497e-b0a9-18585e8dc886",
   "metadata": {},
   "outputs": [],
   "source": [
    "h5.update_metadata_keys(iangle_key='spitch', norm_factor='Monitor')"
   ]
  },
  {
   "cell_type": "code",
   "execution_count": 5,
   "id": "8149d955-a385-415c-81f0-4a6d09780cad",
   "metadata": {},
   "outputs": [
    {
     "data": {
      "text/plain": [
       "'Monitor'"
      ]
     },
     "execution_count": 5,
     "metadata": {},
     "output_type": "execute_result"
    }
   ],
   "source": [
    "h5._norm_key"
   ]
  },
  {
   "cell_type": "code",
   "execution_count": 6,
   "id": "c0d975cd-7139-49bc-a8e6-3404745a79dd",
   "metadata": {},
   "outputs": [
    {
     "data": {
      "text/plain": [
       "array([2018.44251261, 2019.45515538, 2019.05688168, 2018.73416794])"
      ]
     },
     "execution_count": 6,
     "metadata": {},
     "output_type": "execute_result"
    }
   ],
   "source": [
    "h5.get_dataset_norm_factor(sample_name='A1')"
   ]
  },
  {
   "cell_type": "code",
   "execution_count": 7,
   "id": "e9a578e4-6d6a-4480-96d7-fff90f078490",
   "metadata": {},
   "outputs": [
    {
     "data": {
      "text/plain": [
       "array([2018.44251261, 2019.45515538, 2019.05688168, 2018.73416794])"
      ]
     },
     "execution_count": 7,
     "metadata": {},
     "output_type": "execute_result"
    }
   ],
   "source": [
    "h5.get_metadata_dataset(sample_name='A1', key_metadata='Monitor')"
   ]
  },
  {
   "cell_type": "code",
   "execution_count": null,
   "id": "cbdac375-1e5a-4d70-a59f-4fa2d2eb5b4a",
   "metadata": {},
   "outputs": [],
   "source": []
  },
  {
   "cell_type": "code",
   "execution_count": null,
   "id": "ee90cefa-ff25-4aa8-be52-0814e9687fc3",
   "metadata": {},
   "outputs": [],
   "source": []
  },
  {
   "cell_type": "code",
   "execution_count": null,
   "id": "71c05599-8073-4094-80c5-8ecd7215912c",
   "metadata": {},
   "outputs": [],
   "source": []
  },
  {
   "cell_type": "code",
   "execution_count": null,
   "id": "acbe0f2f-2e96-463c-9884-0546c78900e0",
   "metadata": {},
   "outputs": [],
   "source": []
  },
  {
   "cell_type": "code",
   "execution_count": null,
   "id": "cfcc9aae-b371-4711-bcaf-fd291d5c4115",
   "metadata": {},
   "outputs": [],
   "source": []
  },
  {
   "cell_type": "code",
   "execution_count": null,
   "id": "5859671e-8833-48d5-abf8-84b5fabca6c8",
   "metadata": {},
   "outputs": [],
   "source": []
  },
  {
   "cell_type": "code",
   "execution_count": 18,
   "id": "d18acd11-86b0-4378-87d2-a6bedb54a7ea",
   "metadata": {},
   "outputs": [],
   "source": [
    "import h5py\n",
    "from silx.io import nxdata, open, commonh5, h5py_utils\n",
    "import numpy as np\n",
    "import matplotlib.pyplot as plt\n",
    "from pathlib import Path\n",
    "import fabio\n",
    "from collections import defaultdict"
   ]
  },
  {
   "cell_type": "code",
   "execution_count": 2,
   "id": "3d57830d-e9a4-42d7-a3e8-04105d58cd62",
   "metadata": {},
   "outputs": [],
   "source": [
    "NXENTRY_KEY = 'NXentry'\n",
    "NXCLASS_KEY = 'NX_class'\n",
    "NXDATA_KEY = 'NXdata'\n",
    "DEFAULT_KEY = 'default'"
   ]
  },
  {
   "cell_type": "code",
   "execution_count": 11,
   "id": "b1a8a95e-3eb2-48f4-ac8c-3041495fa7bc",
   "metadata": {},
   "outputs": [],
   "source": [
    "H5_FILE = r'C:\\Users\\edgar1993a\\Work Folders\\Documents\\Python\\pyxscat\\pyxscat\\test\\test_edf\\test_NCD\\test_NCD_nx.h5'\n",
    "PATH = r'C:\\Users\\edgar1993a\\Work Folders\\Documents\\Python\\pyxscat\\pyxscat\\test\\test_edf\\test_NCD\\A1'\n",
    "FILES = [str(item) for item in Path(PATH).rglob('*.edf')]"
   ]
  },
  {
   "cell_type": "code",
   "execution_count": 13,
   "id": "754500e2-bacf-484c-9024-127c8beb09c1",
   "metadata": {},
   "outputs": [],
   "source": [
    "h5 = h5py_utils.File(H5_FILE, 'w')\n",
    "h5.close()"
   ]
  },
  {
   "cell_type": "code",
   "execution_count": 45,
   "id": "c9b211dc-1d73-4026-8b98-11507b7d571d",
   "metadata": {},
   "outputs": [],
   "source": [
    "def get_full_dict_metadata(sample_address=''):\n",
    "    file_list = [str(item) for item in Path(sample_address).rglob('*.edf')]\n",
    "    header_dict = defaultdict(list)\n",
    "    for file in FILES:\n",
    "        header = fabio.open(file).header\n",
    "        for key, value in header.items():\n",
    "            try:\n",
    "                value = float(value)\n",
    "            except:\n",
    "                value = str(value).encode()\n",
    "            header_dict[key].append(value)\n",
    "        header_dict['data_filename'].append(file.encode())\n",
    "    return header_dict"
   ]
  },
  {
   "cell_type": "code",
   "execution_count": 35,
   "id": "8edee537-0f13-4837-80ff-b65e03a7046f",
   "metadata": {},
   "outputs": [],
   "source": [
    "def get_list_data_address(sample_address=''):\n",
    "    file_list = [str(item) for item in Path(sample_address).rglob('*.edf')]\n",
    "    header_dict = defaultdict(list)\n",
    "    for file in FILES:\n",
    "        file = file.encode()\n",
    "        header_dict['data'].append(file)\n",
    "    return header_dict"
   ]
  },
  {
   "cell_type": "code",
   "execution_count": null,
   "id": "77573a9d-12a2-45cf-92b6-d70133310985",
   "metadata": {},
   "outputs": [],
   "source": []
  },
  {
   "cell_type": "code",
   "execution_count": 46,
   "id": "533a2ada-a33a-4e7a-a754-d04cef9e1f93",
   "metadata": {},
   "outputs": [],
   "source": [
    "def save_nx_full_dataset(sample_name='', sample_address=''):\n",
    "    header_dict = get_full_dict_metadata(sample_address=sample_address)\n",
    "    for key, value in header_dict.items():\n",
    "        nxdata.save_NXdata(\n",
    "            filename=H5_FILE,\n",
    "            signal_name=key,\n",
    "            signal=np.array(value),\n",
    "            interpretation='spectrum',\n",
    "            nxentry_name=sample_name,\n",
    "            nxdata_name=key,\n",
    "        )"
   ]
  },
  {
   "cell_type": "code",
   "execution_count": 34,
   "id": "64768313-60ec-410d-aba9-a0b2d53f62e3",
   "metadata": {},
   "outputs": [],
   "source": [
    "def save_nx_metadata_dataset(sample_name='', sample_address=''):\n",
    "    header_dict = get_compiled_dict_metadata(sample_address=sample_address)\n",
    "    for key, value in header_dict.items():\n",
    "        nxdata.save_NXdata(\n",
    "            filename=H5_FILE,\n",
    "            signal_name=key,\n",
    "            signal=np.array(value),\n",
    "            interpretation='spectrum',\n",
    "            nxentry_name=sample_name,\n",
    "            nxdata_name=key,\n",
    "        )"
   ]
  },
  {
   "cell_type": "code",
   "execution_count": 42,
   "id": "c3e8a743-9b84-4c2e-a88d-6c9498623c4c",
   "metadata": {},
   "outputs": [],
   "source": [
    "def save_nx_data_dataset(sample_name='', sample_address=''):\n",
    "    data_list = get_list_data_address(sample_address=sample_address)\n",
    "    print(data_list)\n",
    "    nxdata.save_NXdata(\n",
    "            filename=H5_FILE,\n",
    "            signal_name='data',\n",
    "            signal=data_list,\n",
    "            interpretation='spectrum',\n",
    "            nxentry_name=sample_name,\n",
    "            nxdata_name='data',\n",
    "        )"
   ]
  },
  {
   "cell_type": "code",
   "execution_count": 47,
   "id": "f8c3404a-0b4b-4863-ae23-c860fc4eaa55",
   "metadata": {},
   "outputs": [],
   "source": [
    "save_nx_full_dataset(sample_address=PATH, sample_name='vvvvvv')"
   ]
  },
  {
   "cell_type": "code",
   "execution_count": null,
   "id": "ecf7b359-ec72-4fd7-9542-d7e5e489f96f",
   "metadata": {},
   "outputs": [],
   "source": []
  },
  {
   "cell_type": "code",
   "execution_count": null,
   "id": "8f40aa16-e6b6-4829-ad20-a961230322b4",
   "metadata": {},
   "outputs": [],
   "source": []
  },
  {
   "cell_type": "code",
   "execution_count": null,
   "id": "7a693d23-6030-48ee-b0fb-ed7349a35907",
   "metadata": {},
   "outputs": [],
   "source": []
  },
  {
   "cell_type": "code",
   "execution_count": 39,
   "id": "b03aa177-e586-403b-b9c4-62791dcf5c19",
   "metadata": {},
   "outputs": [],
   "source": [
    "save_nx_metadata_dataset(sample_address=PATH, sample_name='bbbb')"
   ]
  },
  {
   "cell_type": "code",
   "execution_count": 43,
   "id": "52d7045c-a0fc-46b0-9de3-de773627872c",
   "metadata": {},
   "outputs": [
    {
     "name": "stdout",
     "output_type": "stream",
     "text": [
      "defaultdict(<class 'list'>, {'data': [b'C:\\\\Users\\\\edgar1993a\\\\Work Folders\\\\Documents\\\\Python\\\\pyxscat\\\\pyxscat\\\\test\\\\test_edf\\\\test_NCD\\\\A1\\\\rayonix_A1_spitch_0.12_000_0000.edf', b'C:\\\\Users\\\\edgar1993a\\\\Work Folders\\\\Documents\\\\Python\\\\pyxscat\\\\pyxscat\\\\test\\\\test_edf\\\\test_NCD\\\\A1\\\\rayonix_A1_spitch_0.12_000_0000_x000.edf', b'C:\\\\Users\\\\edgar1993a\\\\Work Folders\\\\Documents\\\\Python\\\\pyxscat\\\\pyxscat\\\\test\\\\test_edf\\\\test_NCD\\\\A1\\\\rayonix_A1_spitch_0.15_000_0000.edf', b'C:\\\\Users\\\\edgar1993a\\\\Work Folders\\\\Documents\\\\Python\\\\pyxscat\\\\pyxscat\\\\test\\\\test_edf\\\\test_NCD\\\\A1\\\\rayonix_A1_spitch_0.1_000_0000.edf', b'C:\\\\Users\\\\edgar1993a\\\\Work Folders\\\\Documents\\\\Python\\\\pyxscat\\\\pyxscat\\\\test\\\\test_edf\\\\test_NCD\\\\A1\\\\rayonix_A1_spitch_0.2_000_0000.edf']})\n"
     ]
    },
    {
     "ename": "TypeError",
     "evalue": "Object dtype dtype('O') has no native HDF5 equivalent",
     "output_type": "error",
     "traceback": [
      "\u001b[1;31m---------------------------------------------------------------------------\u001b[0m",
      "\u001b[1;31mTypeError\u001b[0m                                 Traceback (most recent call last)",
      "Cell \u001b[1;32mIn[43], line 1\u001b[0m\n\u001b[1;32m----> 1\u001b[0m \u001b[43msave_nx_data_dataset\u001b[49m\u001b[43m(\u001b[49m\u001b[43msample_address\u001b[49m\u001b[38;5;241;43m=\u001b[39;49m\u001b[43mPATH\u001b[49m\u001b[43m,\u001b[49m\u001b[43m \u001b[49m\u001b[43msample_name\u001b[49m\u001b[38;5;241;43m=\u001b[39;49m\u001b[38;5;124;43m'\u001b[39;49m\u001b[38;5;124;43mcccc\u001b[39;49m\u001b[38;5;124;43m'\u001b[39;49m\u001b[43m)\u001b[49m\n",
      "Cell \u001b[1;32mIn[42], line 4\u001b[0m, in \u001b[0;36msave_nx_data_dataset\u001b[1;34m(sample_name, sample_address)\u001b[0m\n\u001b[0;32m      2\u001b[0m data_list \u001b[38;5;241m=\u001b[39m get_list_data_address(sample_address\u001b[38;5;241m=\u001b[39msample_address)\n\u001b[0;32m      3\u001b[0m \u001b[38;5;28mprint\u001b[39m(data_list)\n\u001b[1;32m----> 4\u001b[0m \u001b[43mnxdata\u001b[49m\u001b[38;5;241;43m.\u001b[39;49m\u001b[43msave_NXdata\u001b[49m\u001b[43m(\u001b[49m\n\u001b[0;32m      5\u001b[0m \u001b[43m        \u001b[49m\u001b[43mfilename\u001b[49m\u001b[38;5;241;43m=\u001b[39;49m\u001b[43mH5_FILE\u001b[49m\u001b[43m,\u001b[49m\n\u001b[0;32m      6\u001b[0m \u001b[43m        \u001b[49m\u001b[43msignal_name\u001b[49m\u001b[38;5;241;43m=\u001b[39;49m\u001b[38;5;124;43m'\u001b[39;49m\u001b[38;5;124;43mdata\u001b[39;49m\u001b[38;5;124;43m'\u001b[39;49m\u001b[43m,\u001b[49m\n\u001b[0;32m      7\u001b[0m \u001b[43m        \u001b[49m\u001b[43msignal\u001b[49m\u001b[38;5;241;43m=\u001b[39;49m\u001b[43mdata_list\u001b[49m\u001b[43m,\u001b[49m\n\u001b[0;32m      8\u001b[0m \u001b[43m        \u001b[49m\u001b[43minterpretation\u001b[49m\u001b[38;5;241;43m=\u001b[39;49m\u001b[38;5;124;43m'\u001b[39;49m\u001b[38;5;124;43mspectrum\u001b[39;49m\u001b[38;5;124;43m'\u001b[39;49m\u001b[43m,\u001b[49m\n\u001b[0;32m      9\u001b[0m \u001b[43m        \u001b[49m\u001b[43mnxentry_name\u001b[49m\u001b[38;5;241;43m=\u001b[39;49m\u001b[43msample_name\u001b[49m\u001b[43m,\u001b[49m\n\u001b[0;32m     10\u001b[0m \u001b[43m        \u001b[49m\u001b[43mnxdata_name\u001b[49m\u001b[38;5;241;43m=\u001b[39;49m\u001b[38;5;124;43m'\u001b[39;49m\u001b[38;5;124;43mdata\u001b[39;49m\u001b[38;5;124;43m'\u001b[39;49m\u001b[43m,\u001b[49m\n\u001b[0;32m     11\u001b[0m \u001b[43m    \u001b[49m\u001b[43m)\u001b[49m\n",
      "File \u001b[1;32mC:\\ProgramData\\Anaconda3\\envs\\edgar\\lib\\site-packages\\silx\\io\\nxdata\\write.py:166\u001b[0m, in \u001b[0;36msave_NXdata\u001b[1;34m(filename, signal, axes, signal_name, axes_names, signal_long_name, axes_long_names, signal_errors, axes_errors, title, interpretation, nxentry_name, nxdata_name)\u001b[0m\n\u001b[0;32m    163\u001b[0m     \u001b[38;5;66;03m# better way imho\u001b[39;00m\n\u001b[0;32m    164\u001b[0m     data_group\u001b[38;5;241m.\u001b[39mattrs[\u001b[38;5;124m\"\u001b[39m\u001b[38;5;124mtitle\u001b[39m\u001b[38;5;124m\"\u001b[39m] \u001b[38;5;241m=\u001b[39m _str_to_utf8(title)\n\u001b[1;32m--> 166\u001b[0m signal_dataset \u001b[38;5;241m=\u001b[39m \u001b[43mdata_group\u001b[49m\u001b[38;5;241;43m.\u001b[39;49m\u001b[43mcreate_dataset\u001b[49m\u001b[43m(\u001b[49m\u001b[43msignal_name\u001b[49m\u001b[43m,\u001b[49m\n\u001b[0;32m    167\u001b[0m \u001b[43m                                           \u001b[49m\u001b[43mdata\u001b[49m\u001b[38;5;241;43m=\u001b[39;49m\u001b[43msignal\u001b[49m\u001b[43m)\u001b[49m\n\u001b[0;32m    168\u001b[0m \u001b[38;5;28;01mif\u001b[39;00m signal_long_name:\n\u001b[0;32m    169\u001b[0m     signal_dataset\u001b[38;5;241m.\u001b[39mattrs[\u001b[38;5;124m\"\u001b[39m\u001b[38;5;124mlong_name\u001b[39m\u001b[38;5;124m\"\u001b[39m] \u001b[38;5;241m=\u001b[39m _str_to_utf8(signal_long_name)\n",
      "File \u001b[1;32mC:\\ProgramData\\Anaconda3\\envs\\edgar\\lib\\site-packages\\h5py\\_hl\\group.py:183\u001b[0m, in \u001b[0;36mGroup.create_dataset\u001b[1;34m(self, name, shape, dtype, data, **kwds)\u001b[0m\n\u001b[0;32m    180\u001b[0m         parent_path, name \u001b[38;5;241m=\u001b[39m name\u001b[38;5;241m.\u001b[39mrsplit(\u001b[38;5;124mb\u001b[39m\u001b[38;5;124m'\u001b[39m\u001b[38;5;124m/\u001b[39m\u001b[38;5;124m'\u001b[39m, \u001b[38;5;241m1\u001b[39m)\n\u001b[0;32m    181\u001b[0m         group \u001b[38;5;241m=\u001b[39m \u001b[38;5;28mself\u001b[39m\u001b[38;5;241m.\u001b[39mrequire_group(parent_path)\n\u001b[1;32m--> 183\u001b[0m dsid \u001b[38;5;241m=\u001b[39m dataset\u001b[38;5;241m.\u001b[39mmake_new_dset(group, shape, dtype, data, name, \u001b[38;5;241m*\u001b[39m\u001b[38;5;241m*\u001b[39mkwds)\n\u001b[0;32m    184\u001b[0m dset \u001b[38;5;241m=\u001b[39m dataset\u001b[38;5;241m.\u001b[39mDataset(dsid)\n\u001b[0;32m    185\u001b[0m \u001b[38;5;28;01mreturn\u001b[39;00m dset\n",
      "File \u001b[1;32mC:\\ProgramData\\Anaconda3\\envs\\edgar\\lib\\site-packages\\h5py\\_hl\\dataset.py:88\u001b[0m, in \u001b[0;36mmake_new_dset\u001b[1;34m(parent, shape, dtype, data, name, chunks, compression, shuffle, fletcher32, maxshape, compression_opts, fillvalue, scaleoffset, track_times, external, track_order, dcpl, dapl, efile_prefix, virtual_prefix, allow_unknown_filter, rdcc_nslots, rdcc_nbytes, rdcc_w0)\u001b[0m\n\u001b[0;32m     86\u001b[0m     \u001b[38;5;28;01melse\u001b[39;00m:\n\u001b[0;32m     87\u001b[0m         dtype \u001b[38;5;241m=\u001b[39m numpy\u001b[38;5;241m.\u001b[39mdtype(dtype)\n\u001b[1;32m---> 88\u001b[0m     tid \u001b[38;5;241m=\u001b[39m \u001b[43mh5t\u001b[49m\u001b[38;5;241;43m.\u001b[39;49m\u001b[43mpy_create\u001b[49m\u001b[43m(\u001b[49m\u001b[43mdtype\u001b[49m\u001b[43m,\u001b[49m\u001b[43m \u001b[49m\u001b[43mlogical\u001b[49m\u001b[38;5;241;43m=\u001b[39;49m\u001b[38;5;241;43m1\u001b[39;49m\u001b[43m)\u001b[49m\n\u001b[0;32m     90\u001b[0m \u001b[38;5;66;03m# Legacy\u001b[39;00m\n\u001b[0;32m     91\u001b[0m \u001b[38;5;28;01mif\u001b[39;00m \u001b[38;5;28many\u001b[39m((compression, shuffle, fletcher32, maxshape, scaleoffset)) \u001b[38;5;129;01mand\u001b[39;00m chunks \u001b[38;5;129;01mis\u001b[39;00m \u001b[38;5;28;01mFalse\u001b[39;00m:\n",
      "File \u001b[1;32mh5py\\h5t.pyx:1664\u001b[0m, in \u001b[0;36mh5py.h5t.py_create\u001b[1;34m()\u001b[0m\n",
      "File \u001b[1;32mh5py\\h5t.pyx:1688\u001b[0m, in \u001b[0;36mh5py.h5t.py_create\u001b[1;34m()\u001b[0m\n",
      "File \u001b[1;32mh5py\\h5t.pyx:1748\u001b[0m, in \u001b[0;36mh5py.h5t.py_create\u001b[1;34m()\u001b[0m\n",
      "\u001b[1;31mTypeError\u001b[0m: Object dtype dtype('O') has no native HDF5 equivalent"
     ]
    }
   ],
   "source": [
    "save_nx_data_dataset(sample_address=PATH, sample_name='cccc')"
   ]
  },
  {
   "cell_type": "code",
   "execution_count": 30,
   "id": "a91e1c11-c6ea-4430-b310-c8fb1289bdd5",
   "metadata": {},
   "outputs": [],
   "source": []
  },
  {
   "cell_type": "code",
   "execution_count": 41,
   "id": "9571af89-fd76-4299-94f9-4a68eaced9a0",
   "metadata": {},
   "outputs": [
    {
     "data": {
      "text/plain": [
       "defaultdict(list,\n",
       "            {'data': [b'C:\\\\Users\\\\edgar1993a\\\\Work Folders\\\\Documents\\\\Python\\\\pyxscat\\\\pyxscat\\\\test\\\\test_edf\\\\test_NCD\\\\A1\\\\rayonix_A1_spitch_0.12_000_0000.edf',\n",
       "              b'C:\\\\Users\\\\edgar1993a\\\\Work Folders\\\\Documents\\\\Python\\\\pyxscat\\\\pyxscat\\\\test\\\\test_edf\\\\test_NCD\\\\A1\\\\rayonix_A1_spitch_0.12_000_0000_x000.edf',\n",
       "              b'C:\\\\Users\\\\edgar1993a\\\\Work Folders\\\\Documents\\\\Python\\\\pyxscat\\\\pyxscat\\\\test\\\\test_edf\\\\test_NCD\\\\A1\\\\rayonix_A1_spitch_0.15_000_0000.edf',\n",
       "              b'C:\\\\Users\\\\edgar1993a\\\\Work Folders\\\\Documents\\\\Python\\\\pyxscat\\\\pyxscat\\\\test\\\\test_edf\\\\test_NCD\\\\A1\\\\rayonix_A1_spitch_0.1_000_0000.edf',\n",
       "              b'C:\\\\Users\\\\edgar1993a\\\\Work Folders\\\\Documents\\\\Python\\\\pyxscat\\\\pyxscat\\\\test\\\\test_edf\\\\test_NCD\\\\A1\\\\rayonix_A1_spitch_0.2_000_0000.edf']})"
      ]
     },
     "execution_count": 41,
     "metadata": {},
     "output_type": "execute_result"
    }
   ],
   "source": [
    "get_list_data_address(sample_address=PATH)"
   ]
  },
  {
   "cell_type": "code",
   "execution_count": null,
   "id": "1522edd5-dcdf-473c-9ed7-34ebb25d622f",
   "metadata": {},
   "outputs": [],
   "source": []
  },
  {
   "cell_type": "code",
   "execution_count": null,
   "id": "b1c3715c-622e-4971-b1c0-61fe14982722",
   "metadata": {},
   "outputs": [],
   "source": []
  },
  {
   "cell_type": "code",
   "execution_count": null,
   "id": "142f5d0a-8513-4784-bbb0-cd3cec5b43d5",
   "metadata": {},
   "outputs": [],
   "source": []
  },
  {
   "cell_type": "code",
   "execution_count": null,
   "id": "50b7ddec-e35d-43ee-b9be-fb0b57932c7e",
   "metadata": {},
   "outputs": [],
   "source": []
  },
  {
   "cell_type": "code",
   "execution_count": null,
   "id": "a60ed832-417f-41c0-885d-1f8c8cb1e892",
   "metadata": {},
   "outputs": [],
   "source": []
  },
  {
   "cell_type": "code",
   "execution_count": null,
   "id": "d0a83f52-c06f-4c38-8c62-4957cfc07acc",
   "metadata": {},
   "outputs": [],
   "source": []
  },
  {
   "cell_type": "code",
   "execution_count": null,
   "id": "3732bb05-2513-4b0f-b0d6-0e17eed0c04f",
   "metadata": {},
   "outputs": [],
   "source": [
    "entry_name = 'entry_11'\n",
    "\n",
    "with h5py_utils.File(H5_FILE, 'r+') as h5:\n",
    "    entry = h5.create_group(entry_name)\n",
    "    entry.attrs[NXCLASS_KEY] = NXENTRY_KEY\n",
    "\n",
    "    h5[entry_name].create_dataset(\n",
    "        name=DEFAULT_KEY,\n",
    "        data=np.array([]),\n",
    "    )\n",
    "    h5[entry_name][DEFAULT_KEY].attrs[NXCLASS_KEY] = NXDATA_KEY\n",
    "\n",
    "    print(nxdata.is_valid_nxdata(h5[entry_name]))"
   ]
  },
  {
   "cell_type": "code",
   "execution_count": null,
   "id": "e2277b28-6bb0-48e6-9779-a232ec202216",
   "metadata": {},
   "outputs": [],
   "source": []
  },
  {
   "cell_type": "code",
   "execution_count": 17,
   "id": "67221132-ed92-4e36-972c-f5f306bb8bb3",
   "metadata": {},
   "outputs": [
    {
     "name": "stdout",
     "output_type": "stream",
     "text": [
      "False\n"
     ]
    }
   ],
   "source": []
  },
  {
   "cell_type": "code",
   "execution_count": 26,
   "id": "cf6c3ad4-7fbf-4eb9-a906-c853a20888bf",
   "metadata": {},
   "outputs": [
    {
     "name": "stdout",
     "output_type": "stream",
     "text": [
      "True\n"
     ]
    }
   ],
   "source": [
    "with h5py_utils.File(H5_FILE, 'r+') as h5:\n",
    "    print(nxdata.is_NXentry_with_default_NXdata(h5['my_entry_8']))"
   ]
  },
  {
   "cell_type": "code",
   "execution_count": null,
   "id": "c4c8ac46-0667-4dbc-b918-3dfad7eddf39",
   "metadata": {},
   "outputs": [],
   "source": []
  },
  {
   "cell_type": "code",
   "execution_count": null,
   "id": "ba64ced0-ef81-4935-ae28-35570f60c4e1",
   "metadata": {},
   "outputs": [],
   "source": []
  },
  {
   "cell_type": "code",
   "execution_count": 48,
   "id": "03897cad-83e3-462c-8952-e3724195072b",
   "metadata": {},
   "outputs": [],
   "source": [
    "a = np.array([\n",
    "    np.linspace(0,10,10),\n",
    "    np.linspace(0,10,10)**2,\n",
    "])\n",
    "b = np.array([\n",
    "    np.linspace(0,20,20),\n",
    "    np.linspace(0,20,20)**2,\n",
    "])"
   ]
  },
  {
   "cell_type": "code",
   "execution_count": 61,
   "id": "3c4de348-be29-4ef5-bd45-70450686de93",
   "metadata": {},
   "outputs": [
    {
     "data": {
      "text/plain": [
       "True"
      ]
     },
     "execution_count": 61,
     "metadata": {},
     "output_type": "execute_result"
    }
   ],
   "source": []
  },
  {
   "cell_type": "code",
   "execution_count": 38,
   "id": "14ab4121-b9b4-4fa8-92f4-7aecd71877dd",
   "metadata": {},
   "outputs": [
    {
     "name": "stdout",
     "output_type": "stream",
     "text": [
      "(2, 10)\n"
     ]
    }
   ],
   "source": [
    "with h5py_utils.File(H5_FILE, 'r+') as h5:\n",
    "    ds = h5['my_entry_8']['my_curve']['frames'][()]\n",
    "    print(ds.shape)"
   ]
  },
  {
   "cell_type": "code",
   "execution_count": null,
   "id": "123306f1-34bc-42ec-90e0-d5cc719a0e42",
   "metadata": {},
   "outputs": [],
   "source": []
  },
  {
   "cell_type": "code",
   "execution_count": null,
   "id": "c51063a8-83db-4c73-b6b7-2fcb9f6113b3",
   "metadata": {},
   "outputs": [],
   "source": [
    "with h5py_utils.File(H5_FILE, 'r+') as h5:\n",
    "    dataset_path = f'my_entry_10/my_curve/frames'\n",
    "    \n",
    "    ds = h5['my_entry_10']['my_curve']['frames'][()]\n",
    "    print(ds.shape)"
   ]
  },
  {
   "cell_type": "code",
   "execution_count": null,
   "id": "8089a02c-ee42-4859-a616-a1fe1e028814",
   "metadata": {},
   "outputs": [],
   "source": []
  },
  {
   "cell_type": "code",
   "execution_count": 60,
   "id": "9921716a-fcc7-4e5f-9f4b-a8768706f711",
   "metadata": {},
   "outputs": [
    {
     "data": {
      "text/plain": [
       "\u001b[1;31mSignature:\u001b[0m\n",
       "\u001b[0mnxdata\u001b[0m\u001b[1;33m.\u001b[0m\u001b[0msave_NXdata\u001b[0m\u001b[1;33m(\u001b[0m\u001b[1;33m\n",
       "\u001b[0m    \u001b[0mfilename\u001b[0m\u001b[1;33m,\u001b[0m\u001b[1;33m\n",
       "\u001b[0m    \u001b[0msignal\u001b[0m\u001b[1;33m,\u001b[0m\u001b[1;33m\n",
       "\u001b[0m    \u001b[0maxes\u001b[0m\u001b[1;33m=\u001b[0m\u001b[1;32mNone\u001b[0m\u001b[1;33m,\u001b[0m\u001b[1;33m\n",
       "\u001b[0m    \u001b[0msignal_name\u001b[0m\u001b[1;33m=\u001b[0m\u001b[1;34m'data'\u001b[0m\u001b[1;33m,\u001b[0m\u001b[1;33m\n",
       "\u001b[0m    \u001b[0maxes_names\u001b[0m\u001b[1;33m=\u001b[0m\u001b[1;32mNone\u001b[0m\u001b[1;33m,\u001b[0m\u001b[1;33m\n",
       "\u001b[0m    \u001b[0msignal_long_name\u001b[0m\u001b[1;33m=\u001b[0m\u001b[1;32mNone\u001b[0m\u001b[1;33m,\u001b[0m\u001b[1;33m\n",
       "\u001b[0m    \u001b[0maxes_long_names\u001b[0m\u001b[1;33m=\u001b[0m\u001b[1;32mNone\u001b[0m\u001b[1;33m,\u001b[0m\u001b[1;33m\n",
       "\u001b[0m    \u001b[0msignal_errors\u001b[0m\u001b[1;33m=\u001b[0m\u001b[1;32mNone\u001b[0m\u001b[1;33m,\u001b[0m\u001b[1;33m\n",
       "\u001b[0m    \u001b[0maxes_errors\u001b[0m\u001b[1;33m=\u001b[0m\u001b[1;32mNone\u001b[0m\u001b[1;33m,\u001b[0m\u001b[1;33m\n",
       "\u001b[0m    \u001b[0mtitle\u001b[0m\u001b[1;33m=\u001b[0m\u001b[1;32mNone\u001b[0m\u001b[1;33m,\u001b[0m\u001b[1;33m\n",
       "\u001b[0m    \u001b[0minterpretation\u001b[0m\u001b[1;33m=\u001b[0m\u001b[1;32mNone\u001b[0m\u001b[1;33m,\u001b[0m\u001b[1;33m\n",
       "\u001b[0m    \u001b[0mnxentry_name\u001b[0m\u001b[1;33m=\u001b[0m\u001b[1;34m'entry'\u001b[0m\u001b[1;33m,\u001b[0m\u001b[1;33m\n",
       "\u001b[0m    \u001b[0mnxdata_name\u001b[0m\u001b[1;33m=\u001b[0m\u001b[1;32mNone\u001b[0m\u001b[1;33m,\u001b[0m\u001b[1;33m\n",
       "\u001b[0m\u001b[1;33m)\u001b[0m\u001b[1;33m\u001b[0m\u001b[1;33m\u001b[0m\u001b[0m\n",
       "\u001b[1;31mSource:\u001b[0m   \n",
       "\u001b[1;32mdef\u001b[0m \u001b[0msave_NXdata\u001b[0m\u001b[1;33m(\u001b[0m\u001b[0mfilename\u001b[0m\u001b[1;33m,\u001b[0m \u001b[0msignal\u001b[0m\u001b[1;33m,\u001b[0m \u001b[0maxes\u001b[0m\u001b[1;33m=\u001b[0m\u001b[1;32mNone\u001b[0m\u001b[1;33m,\u001b[0m\u001b[1;33m\n",
       "\u001b[0m                \u001b[0msignal_name\u001b[0m\u001b[1;33m=\u001b[0m\u001b[1;34m\"data\"\u001b[0m\u001b[1;33m,\u001b[0m \u001b[0maxes_names\u001b[0m\u001b[1;33m=\u001b[0m\u001b[1;32mNone\u001b[0m\u001b[1;33m,\u001b[0m\u001b[1;33m\n",
       "\u001b[0m                \u001b[0msignal_long_name\u001b[0m\u001b[1;33m=\u001b[0m\u001b[1;32mNone\u001b[0m\u001b[1;33m,\u001b[0m \u001b[0maxes_long_names\u001b[0m\u001b[1;33m=\u001b[0m\u001b[1;32mNone\u001b[0m\u001b[1;33m,\u001b[0m\u001b[1;33m\n",
       "\u001b[0m                \u001b[0msignal_errors\u001b[0m\u001b[1;33m=\u001b[0m\u001b[1;32mNone\u001b[0m\u001b[1;33m,\u001b[0m \u001b[0maxes_errors\u001b[0m\u001b[1;33m=\u001b[0m\u001b[1;32mNone\u001b[0m\u001b[1;33m,\u001b[0m\u001b[1;33m\n",
       "\u001b[0m                \u001b[0mtitle\u001b[0m\u001b[1;33m=\u001b[0m\u001b[1;32mNone\u001b[0m\u001b[1;33m,\u001b[0m \u001b[0minterpretation\u001b[0m\u001b[1;33m=\u001b[0m\u001b[1;32mNone\u001b[0m\u001b[1;33m,\u001b[0m\u001b[1;33m\n",
       "\u001b[0m                \u001b[0mnxentry_name\u001b[0m\u001b[1;33m=\u001b[0m\u001b[1;34m\"entry\"\u001b[0m\u001b[1;33m,\u001b[0m \u001b[0mnxdata_name\u001b[0m\u001b[1;33m=\u001b[0m\u001b[1;32mNone\u001b[0m\u001b[1;33m)\u001b[0m\u001b[1;33m:\u001b[0m\u001b[1;33m\n",
       "\u001b[0m    \u001b[1;34m\"\"\"Write data to an NXdata group.\n",
       "\n",
       "    .. note::\n",
       "\n",
       "        No consistency checks are made regarding the dimensionality of the\n",
       "        signal and number of axes. The user is responsible for providing\n",
       "        meaningful data, that can be interpreted by visualization software.\n",
       "\n",
       "    :param str filename: Path to output file. If the file does not\n",
       "        exists, it is created.\n",
       "    :param numpy.ndarray signal: Signal array.\n",
       "    :param List[numpy.ndarray] axes: List of axes arrays.\n",
       "    :param str signal_name: Name of signal dataset, in output file\n",
       "    :param List[str] axes_names: List of dataset names for axes, in\n",
       "        output file\n",
       "    :param str signal_long_name: *@long_name* attribute for signal, or None.\n",
       "    :param  axes_long_names: None, or list of long names\n",
       "        for axes\n",
       "    :type axes_long_names: List[str, None]\n",
       "    :param numpy.ndarray signal_errors: Array of errors associated with the\n",
       "        signal\n",
       "    :param axes_errors: List of arrays of errors\n",
       "        associated with each axis\n",
       "    :type axes_errors: List[numpy.ndarray, None]\n",
       "    :param str title: Graph title (saved as a \"title\" dataset) or None.\n",
       "    :param str interpretation: *@interpretation* attribute (\"spectrum\",\n",
       "        \"image\", \"rgba-image\" or None). This is only needed in cases of\n",
       "        ambiguous dimensionality, e.g. a 3D array which represents a RGBA\n",
       "        image rather than a stack.\n",
       "    :param str nxentry_name: Name of group in which the NXdata group\n",
       "        is created. By default, \"/entry\" is used.\n",
       "\n",
       "        .. note::\n",
       "\n",
       "            The Nexus format specification requires for NXdata groups\n",
       "            be part of a NXentry group.\n",
       "            The specified group should have attribute *@NX_class=NXentry*, in\n",
       "            order for the created file to be nexus compliant.\n",
       "    :param str nxdata_name: Name of NXdata group. If omitted (None), the\n",
       "        function creates a new group using the first available name (\"data0\",\n",
       "        or \"data1\"...).\n",
       "        Overwriting an existing group (or dataset) is not supported, you must\n",
       "        delete it yourself prior to calling this function if this is what you\n",
       "        want.\n",
       "    :return: True if save was successful, else False.\n",
       "    \"\"\"\u001b[0m\u001b[1;33m\n",
       "\u001b[0m    \u001b[1;32mif\u001b[0m \u001b[0mh5py\u001b[0m \u001b[1;32mis\u001b[0m \u001b[1;32mNone\u001b[0m\u001b[1;33m:\u001b[0m\u001b[1;33m\n",
       "\u001b[0m        \u001b[1;32mraise\u001b[0m \u001b[0mImportError\u001b[0m\u001b[1;33m(\u001b[0m\u001b[1;34m\"h5py could not be imported, but is required by \"\u001b[0m\u001b[1;33m\n",
       "\u001b[0m                          \u001b[1;34m\"save_NXdata function\"\u001b[0m\u001b[1;33m)\u001b[0m\u001b[1;33m\n",
       "\u001b[0m\u001b[1;33m\n",
       "\u001b[0m    \u001b[1;32mif\u001b[0m \u001b[0maxes_names\u001b[0m \u001b[1;32mis\u001b[0m \u001b[1;32mnot\u001b[0m \u001b[1;32mNone\u001b[0m\u001b[1;33m:\u001b[0m\u001b[1;33m\n",
       "\u001b[0m        \u001b[1;32massert\u001b[0m \u001b[0maxes\u001b[0m \u001b[1;32mis\u001b[0m \u001b[1;32mnot\u001b[0m \u001b[1;32mNone\u001b[0m\u001b[1;33m,\u001b[0m \u001b[1;34m\"Axes names defined, but missing axes arrays\"\u001b[0m\u001b[1;33m\n",
       "\u001b[0m        \u001b[1;32massert\u001b[0m \u001b[0mlen\u001b[0m\u001b[1;33m(\u001b[0m\u001b[0maxes\u001b[0m\u001b[1;33m)\u001b[0m \u001b[1;33m==\u001b[0m \u001b[0mlen\u001b[0m\u001b[1;33m(\u001b[0m\u001b[0maxes_names\u001b[0m\u001b[1;33m)\u001b[0m\u001b[1;33m,\u001b[0m \\\n",
       "            \u001b[1;34m\"Mismatch between number of axes and axes_names\"\u001b[0m\u001b[1;33m\n",
       "\u001b[0m\u001b[1;33m\n",
       "\u001b[0m    \u001b[1;32mif\u001b[0m \u001b[0maxes\u001b[0m \u001b[1;32mis\u001b[0m \u001b[1;32mnot\u001b[0m \u001b[1;32mNone\u001b[0m \u001b[1;32mand\u001b[0m \u001b[0maxes_names\u001b[0m \u001b[1;32mis\u001b[0m \u001b[1;32mNone\u001b[0m\u001b[1;33m:\u001b[0m\u001b[1;33m\n",
       "\u001b[0m        \u001b[0maxes_names\u001b[0m \u001b[1;33m=\u001b[0m \u001b[1;33m[\u001b[0m\u001b[1;33m]\u001b[0m\u001b[1;33m\n",
       "\u001b[0m        \u001b[1;32mfor\u001b[0m \u001b[0mi\u001b[0m\u001b[1;33m,\u001b[0m \u001b[0maxis\u001b[0m \u001b[1;32min\u001b[0m \u001b[0menumerate\u001b[0m\u001b[1;33m(\u001b[0m\u001b[0maxes\u001b[0m\u001b[1;33m)\u001b[0m\u001b[1;33m:\u001b[0m\u001b[1;33m\n",
       "\u001b[0m            \u001b[0maxes_names\u001b[0m\u001b[1;33m.\u001b[0m\u001b[0mappend\u001b[0m\u001b[1;33m(\u001b[0m\u001b[1;34m\"dim%d\"\u001b[0m \u001b[1;33m%\u001b[0m \u001b[0mi\u001b[0m \u001b[1;32mif\u001b[0m \u001b[0maxis\u001b[0m \u001b[1;32mis\u001b[0m \u001b[1;32mnot\u001b[0m \u001b[1;32mNone\u001b[0m \u001b[1;32melse\u001b[0m \u001b[1;34m\".\"\u001b[0m\u001b[1;33m)\u001b[0m\u001b[1;33m\n",
       "\u001b[0m    \u001b[1;32mif\u001b[0m \u001b[0maxes\u001b[0m \u001b[1;32mis\u001b[0m \u001b[1;32mNone\u001b[0m\u001b[1;33m:\u001b[0m\u001b[1;33m\n",
       "\u001b[0m        \u001b[0maxes\u001b[0m \u001b[1;33m=\u001b[0m \u001b[1;33m[\u001b[0m\u001b[1;33m]\u001b[0m\u001b[1;33m\n",
       "\u001b[0m\u001b[1;33m\n",
       "\u001b[0m    \u001b[1;31m# Open file in\u001b[0m\u001b[1;33m\n",
       "\u001b[0m    \u001b[1;32mif\u001b[0m \u001b[0mos\u001b[0m\u001b[1;33m.\u001b[0m\u001b[0mpath\u001b[0m\u001b[1;33m.\u001b[0m\u001b[0mexists\u001b[0m\u001b[1;33m(\u001b[0m\u001b[0mfilename\u001b[0m\u001b[1;33m)\u001b[0m\u001b[1;33m:\u001b[0m\u001b[1;33m\n",
       "\u001b[0m        \u001b[0merrmsg\u001b[0m \u001b[1;33m=\u001b[0m \u001b[1;34m\"Cannot write/append to existing path %s\"\u001b[0m\u001b[1;33m\n",
       "\u001b[0m        \u001b[1;32mif\u001b[0m \u001b[1;32mnot\u001b[0m \u001b[0mos\u001b[0m\u001b[1;33m.\u001b[0m\u001b[0mpath\u001b[0m\u001b[1;33m.\u001b[0m\u001b[0misfile\u001b[0m\u001b[1;33m(\u001b[0m\u001b[0mfilename\u001b[0m\u001b[1;33m)\u001b[0m\u001b[1;33m:\u001b[0m\u001b[1;33m\n",
       "\u001b[0m            \u001b[0merrmsg\u001b[0m \u001b[1;33m+=\u001b[0m \u001b[1;34m\" (not a file)\"\u001b[0m\u001b[1;33m\n",
       "\u001b[0m            \u001b[0m_logger\u001b[0m\u001b[1;33m.\u001b[0m\u001b[0merror\u001b[0m\u001b[1;33m(\u001b[0m\u001b[0merrmsg\u001b[0m\u001b[1;33m,\u001b[0m \u001b[0mfilename\u001b[0m\u001b[1;33m)\u001b[0m\u001b[1;33m\n",
       "\u001b[0m            \u001b[1;32mreturn\u001b[0m \u001b[1;32mFalse\u001b[0m\u001b[1;33m\n",
       "\u001b[0m        \u001b[1;32mif\u001b[0m \u001b[1;32mnot\u001b[0m \u001b[0mos\u001b[0m\u001b[1;33m.\u001b[0m\u001b[0maccess\u001b[0m\u001b[1;33m(\u001b[0m\u001b[0mfilename\u001b[0m\u001b[1;33m,\u001b[0m \u001b[0mos\u001b[0m\u001b[1;33m.\u001b[0m\u001b[0mW_OK\u001b[0m\u001b[1;33m)\u001b[0m\u001b[1;33m:\u001b[0m\u001b[1;33m\n",
       "\u001b[0m            \u001b[0merrmsg\u001b[0m \u001b[1;33m+=\u001b[0m \u001b[1;34m\" (no permission to write)\"\u001b[0m\u001b[1;33m\n",
       "\u001b[0m            \u001b[0m_logger\u001b[0m\u001b[1;33m.\u001b[0m\u001b[0merror\u001b[0m\u001b[1;33m(\u001b[0m\u001b[0merrmsg\u001b[0m\u001b[1;33m,\u001b[0m \u001b[0mfilename\u001b[0m\u001b[1;33m)\u001b[0m\u001b[1;33m\n",
       "\u001b[0m            \u001b[1;32mreturn\u001b[0m \u001b[1;32mFalse\u001b[0m\u001b[1;33m\n",
       "\u001b[0m        \u001b[0mmode\u001b[0m \u001b[1;33m=\u001b[0m \u001b[1;34m\"r+\"\u001b[0m\u001b[1;33m\n",
       "\u001b[0m    \u001b[1;32melse\u001b[0m\u001b[1;33m:\u001b[0m\u001b[1;33m\n",
       "\u001b[0m        \u001b[0mmode\u001b[0m \u001b[1;33m=\u001b[0m \u001b[1;34m\"w-\"\u001b[0m\u001b[1;33m\n",
       "\u001b[0m\u001b[1;33m\n",
       "\u001b[0m    \u001b[1;32mwith\u001b[0m \u001b[0mh5py\u001b[0m\u001b[1;33m.\u001b[0m\u001b[0mFile\u001b[0m\u001b[1;33m(\u001b[0m\u001b[0mfilename\u001b[0m\u001b[1;33m,\u001b[0m \u001b[0mmode\u001b[0m\u001b[1;33m=\u001b[0m\u001b[0mmode\u001b[0m\u001b[1;33m)\u001b[0m \u001b[1;32mas\u001b[0m \u001b[0mh5f\u001b[0m\u001b[1;33m:\u001b[0m\u001b[1;33m\n",
       "\u001b[0m        \u001b[1;31m# get or create entry\u001b[0m\u001b[1;33m\n",
       "\u001b[0m        \u001b[1;32mif\u001b[0m \u001b[0mnxentry_name\u001b[0m \u001b[1;32mis\u001b[0m \u001b[1;32mnot\u001b[0m \u001b[1;32mNone\u001b[0m\u001b[1;33m:\u001b[0m\u001b[1;33m\n",
       "\u001b[0m            \u001b[0mentry\u001b[0m \u001b[1;33m=\u001b[0m \u001b[0mh5f\u001b[0m\u001b[1;33m.\u001b[0m\u001b[0mrequire_group\u001b[0m\u001b[1;33m(\u001b[0m\u001b[0mnxentry_name\u001b[0m\u001b[1;33m)\u001b[0m\u001b[1;33m\n",
       "\u001b[0m            \u001b[1;32mif\u001b[0m \u001b[1;34m\"default\"\u001b[0m \u001b[1;32mnot\u001b[0m \u001b[1;32min\u001b[0m \u001b[0mh5f\u001b[0m\u001b[1;33m.\u001b[0m\u001b[0mattrs\u001b[0m\u001b[1;33m:\u001b[0m\u001b[1;33m\n",
       "\u001b[0m                \u001b[1;31m# set this entry as default\u001b[0m\u001b[1;33m\n",
       "\u001b[0m                \u001b[0mh5f\u001b[0m\u001b[1;33m.\u001b[0m\u001b[0mattrs\u001b[0m\u001b[1;33m[\u001b[0m\u001b[1;34m\"default\"\u001b[0m\u001b[1;33m]\u001b[0m \u001b[1;33m=\u001b[0m \u001b[0m_str_to_utf8\u001b[0m\u001b[1;33m(\u001b[0m\u001b[0mnxentry_name\u001b[0m\u001b[1;33m)\u001b[0m\u001b[1;33m\n",
       "\u001b[0m            \u001b[1;32mif\u001b[0m \u001b[1;34m\"NX_class\"\u001b[0m \u001b[1;32mnot\u001b[0m \u001b[1;32min\u001b[0m \u001b[0mentry\u001b[0m\u001b[1;33m.\u001b[0m\u001b[0mattrs\u001b[0m\u001b[1;33m:\u001b[0m\u001b[1;33m\n",
       "\u001b[0m                \u001b[0mentry\u001b[0m\u001b[1;33m.\u001b[0m\u001b[0mattrs\u001b[0m\u001b[1;33m[\u001b[0m\u001b[1;34m\"NX_class\"\u001b[0m\u001b[1;33m]\u001b[0m \u001b[1;33m=\u001b[0m \u001b[1;34mu\"NXentry\"\u001b[0m\u001b[1;33m\n",
       "\u001b[0m        \u001b[1;32melse\u001b[0m\u001b[1;33m:\u001b[0m\u001b[1;33m\n",
       "\u001b[0m            \u001b[1;31m# write NXdata into the root of the file (invalid nexus!)\u001b[0m\u001b[1;33m\n",
       "\u001b[0m            \u001b[0mentry\u001b[0m \u001b[1;33m=\u001b[0m \u001b[0mh5f\u001b[0m\u001b[1;33m\n",
       "\u001b[0m\u001b[1;33m\n",
       "\u001b[0m        \u001b[1;31m# Create NXdata group\u001b[0m\u001b[1;33m\n",
       "\u001b[0m        \u001b[1;32mif\u001b[0m \u001b[0mnxdata_name\u001b[0m \u001b[1;32mis\u001b[0m \u001b[1;32mnot\u001b[0m \u001b[1;32mNone\u001b[0m\u001b[1;33m:\u001b[0m\u001b[1;33m\n",
       "\u001b[0m            \u001b[1;32mif\u001b[0m \u001b[0mnxdata_name\u001b[0m \u001b[1;32min\u001b[0m \u001b[0mentry\u001b[0m\u001b[1;33m:\u001b[0m\u001b[1;33m\n",
       "\u001b[0m                \u001b[0m_logger\u001b[0m\u001b[1;33m.\u001b[0m\u001b[0merror\u001b[0m\u001b[1;33m(\u001b[0m\u001b[1;34m\"Cannot assign an NXdata group to an existing\"\u001b[0m\u001b[1;33m\n",
       "\u001b[0m                              \u001b[1;34m\" group or dataset\"\u001b[0m\u001b[1;33m)\u001b[0m\u001b[1;33m\n",
       "\u001b[0m                \u001b[1;32mreturn\u001b[0m \u001b[1;32mFalse\u001b[0m\u001b[1;33m\n",
       "\u001b[0m        \u001b[1;32melse\u001b[0m\u001b[1;33m:\u001b[0m\u001b[1;33m\n",
       "\u001b[0m            \u001b[1;31m# no name specified, take one that is available\u001b[0m\u001b[1;33m\n",
       "\u001b[0m            \u001b[0mnxdata_name\u001b[0m \u001b[1;33m=\u001b[0m \u001b[1;34m\"data0\"\u001b[0m\u001b[1;33m\n",
       "\u001b[0m            \u001b[0mi\u001b[0m \u001b[1;33m=\u001b[0m \u001b[1;36m1\u001b[0m\u001b[1;33m\n",
       "\u001b[0m            \u001b[1;32mwhile\u001b[0m \u001b[0mnxdata_name\u001b[0m \u001b[1;32min\u001b[0m \u001b[0mentry\u001b[0m\u001b[1;33m:\u001b[0m\u001b[1;33m\n",
       "\u001b[0m                \u001b[0m_logger\u001b[0m\u001b[1;33m.\u001b[0m\u001b[0minfo\u001b[0m\u001b[1;33m(\u001b[0m\u001b[1;34m\"%s item already exists in NXentry group,\"\u001b[0m \u001b[1;33m+\u001b[0m\u001b[1;33m\n",
       "\u001b[0m                             \u001b[1;34m\" trying %s\"\u001b[0m\u001b[1;33m,\u001b[0m \u001b[0mnxdata_name\u001b[0m\u001b[1;33m,\u001b[0m \u001b[1;34m\"data%d\"\u001b[0m \u001b[1;33m%\u001b[0m \u001b[0mi\u001b[0m\u001b[1;33m)\u001b[0m\u001b[1;33m\n",
       "\u001b[0m                \u001b[0mnxdata_name\u001b[0m \u001b[1;33m=\u001b[0m \u001b[1;34m\"data%d\"\u001b[0m \u001b[1;33m%\u001b[0m \u001b[0mi\u001b[0m\u001b[1;33m\n",
       "\u001b[0m                \u001b[0mi\u001b[0m \u001b[1;33m+=\u001b[0m \u001b[1;36m1\u001b[0m\u001b[1;33m\n",
       "\u001b[0m\u001b[1;33m\n",
       "\u001b[0m        \u001b[0mdata_group\u001b[0m \u001b[1;33m=\u001b[0m \u001b[0mentry\u001b[0m\u001b[1;33m.\u001b[0m\u001b[0mcreate_group\u001b[0m\u001b[1;33m(\u001b[0m\u001b[0mnxdata_name\u001b[0m\u001b[1;33m)\u001b[0m\u001b[1;33m\n",
       "\u001b[0m        \u001b[0mdata_group\u001b[0m\u001b[1;33m.\u001b[0m\u001b[0mattrs\u001b[0m\u001b[1;33m[\u001b[0m\u001b[1;34m\"NX_class\"\u001b[0m\u001b[1;33m]\u001b[0m \u001b[1;33m=\u001b[0m \u001b[1;34mu\"NXdata\"\u001b[0m\u001b[1;33m\n",
       "\u001b[0m        \u001b[0mdata_group\u001b[0m\u001b[1;33m.\u001b[0m\u001b[0mattrs\u001b[0m\u001b[1;33m[\u001b[0m\u001b[1;34m\"signal\"\u001b[0m\u001b[1;33m]\u001b[0m \u001b[1;33m=\u001b[0m \u001b[0m_str_to_utf8\u001b[0m\u001b[1;33m(\u001b[0m\u001b[0msignal_name\u001b[0m\u001b[1;33m)\u001b[0m\u001b[1;33m\n",
       "\u001b[0m        \u001b[1;32mif\u001b[0m \u001b[0maxes\u001b[0m\u001b[1;33m:\u001b[0m\u001b[1;33m\n",
       "\u001b[0m            \u001b[0mdata_group\u001b[0m\u001b[1;33m.\u001b[0m\u001b[0mattrs\u001b[0m\u001b[1;33m[\u001b[0m\u001b[1;34m\"axes\"\u001b[0m\u001b[1;33m]\u001b[0m \u001b[1;33m=\u001b[0m \u001b[0m_str_to_utf8\u001b[0m\u001b[1;33m(\u001b[0m\u001b[0maxes_names\u001b[0m\u001b[1;33m)\u001b[0m\u001b[1;33m\n",
       "\u001b[0m        \u001b[1;32mif\u001b[0m \u001b[0mtitle\u001b[0m\u001b[1;33m:\u001b[0m\u001b[1;33m\n",
       "\u001b[0m            \u001b[1;31m# not in NXdata spec, but implemented by nexpy\u001b[0m\u001b[1;33m\n",
       "\u001b[0m            \u001b[0mdata_group\u001b[0m\u001b[1;33m[\u001b[0m\u001b[1;34m\"title\"\u001b[0m\u001b[1;33m]\u001b[0m \u001b[1;33m=\u001b[0m \u001b[0mtitle\u001b[0m\u001b[1;33m\n",
       "\u001b[0m            \u001b[1;31m# better way imho\u001b[0m\u001b[1;33m\n",
       "\u001b[0m            \u001b[0mdata_group\u001b[0m\u001b[1;33m.\u001b[0m\u001b[0mattrs\u001b[0m\u001b[1;33m[\u001b[0m\u001b[1;34m\"title\"\u001b[0m\u001b[1;33m]\u001b[0m \u001b[1;33m=\u001b[0m \u001b[0m_str_to_utf8\u001b[0m\u001b[1;33m(\u001b[0m\u001b[0mtitle\u001b[0m\u001b[1;33m)\u001b[0m\u001b[1;33m\n",
       "\u001b[0m\u001b[1;33m\n",
       "\u001b[0m        \u001b[0msignal_dataset\u001b[0m \u001b[1;33m=\u001b[0m \u001b[0mdata_group\u001b[0m\u001b[1;33m.\u001b[0m\u001b[0mcreate_dataset\u001b[0m\u001b[1;33m(\u001b[0m\u001b[0msignal_name\u001b[0m\u001b[1;33m,\u001b[0m\u001b[1;33m\n",
       "\u001b[0m                                                   \u001b[0mdata\u001b[0m\u001b[1;33m=\u001b[0m\u001b[0msignal\u001b[0m\u001b[1;33m)\u001b[0m\u001b[1;33m\n",
       "\u001b[0m        \u001b[1;32mif\u001b[0m \u001b[0msignal_long_name\u001b[0m\u001b[1;33m:\u001b[0m\u001b[1;33m\n",
       "\u001b[0m            \u001b[0msignal_dataset\u001b[0m\u001b[1;33m.\u001b[0m\u001b[0mattrs\u001b[0m\u001b[1;33m[\u001b[0m\u001b[1;34m\"long_name\"\u001b[0m\u001b[1;33m]\u001b[0m \u001b[1;33m=\u001b[0m \u001b[0m_str_to_utf8\u001b[0m\u001b[1;33m(\u001b[0m\u001b[0msignal_long_name\u001b[0m\u001b[1;33m)\u001b[0m\u001b[1;33m\n",
       "\u001b[0m        \u001b[1;32mif\u001b[0m \u001b[0minterpretation\u001b[0m\u001b[1;33m:\u001b[0m\u001b[1;33m\n",
       "\u001b[0m            \u001b[0msignal_dataset\u001b[0m\u001b[1;33m.\u001b[0m\u001b[0mattrs\u001b[0m\u001b[1;33m[\u001b[0m\u001b[1;34m\"interpretation\"\u001b[0m\u001b[1;33m]\u001b[0m \u001b[1;33m=\u001b[0m \u001b[0m_str_to_utf8\u001b[0m\u001b[1;33m(\u001b[0m\u001b[0minterpretation\u001b[0m\u001b[1;33m)\u001b[0m\u001b[1;33m\n",
       "\u001b[0m\u001b[1;33m\n",
       "\u001b[0m        \u001b[1;32mfor\u001b[0m \u001b[0mi\u001b[0m\u001b[1;33m,\u001b[0m \u001b[0maxis_array\u001b[0m \u001b[1;32min\u001b[0m \u001b[0menumerate\u001b[0m\u001b[1;33m(\u001b[0m\u001b[0maxes\u001b[0m\u001b[1;33m)\u001b[0m\u001b[1;33m:\u001b[0m\u001b[1;33m\n",
       "\u001b[0m            \u001b[1;32mif\u001b[0m \u001b[0maxis_array\u001b[0m \u001b[1;32mis\u001b[0m \u001b[1;32mNone\u001b[0m\u001b[1;33m:\u001b[0m\u001b[1;33m\n",
       "\u001b[0m                \u001b[1;32massert\u001b[0m \u001b[0maxes_names\u001b[0m\u001b[1;33m[\u001b[0m\u001b[0mi\u001b[0m\u001b[1;33m]\u001b[0m \u001b[1;32min\u001b[0m \u001b[1;33m[\u001b[0m\u001b[1;34m\".\"\u001b[0m\u001b[1;33m,\u001b[0m \u001b[1;32mNone\u001b[0m\u001b[1;33m]\u001b[0m\u001b[1;33m,\u001b[0m \\\n",
       "                    \u001b[1;34m\"Axis name defined for dim %d but no axis array\"\u001b[0m \u001b[1;33m%\u001b[0m \u001b[0mi\u001b[0m\u001b[1;33m\n",
       "\u001b[0m                \u001b[1;32mcontinue\u001b[0m\u001b[1;33m\n",
       "\u001b[0m            \u001b[0maxis_dataset\u001b[0m \u001b[1;33m=\u001b[0m \u001b[0mdata_group\u001b[0m\u001b[1;33m.\u001b[0m\u001b[0mcreate_dataset\u001b[0m\u001b[1;33m(\u001b[0m\u001b[0maxes_names\u001b[0m\u001b[1;33m[\u001b[0m\u001b[0mi\u001b[0m\u001b[1;33m]\u001b[0m\u001b[1;33m,\u001b[0m\u001b[1;33m\n",
       "\u001b[0m                                                     \u001b[0mdata\u001b[0m\u001b[1;33m=\u001b[0m\u001b[0maxis_array\u001b[0m\u001b[1;33m)\u001b[0m\u001b[1;33m\n",
       "\u001b[0m            \u001b[1;32mif\u001b[0m \u001b[0maxes_long_names\u001b[0m \u001b[1;32mis\u001b[0m \u001b[1;32mnot\u001b[0m \u001b[1;32mNone\u001b[0m\u001b[1;33m:\u001b[0m\u001b[1;33m\n",
       "\u001b[0m                \u001b[0maxis_dataset\u001b[0m\u001b[1;33m.\u001b[0m\u001b[0mattrs\u001b[0m\u001b[1;33m[\u001b[0m\u001b[1;34m\"long_name\"\u001b[0m\u001b[1;33m]\u001b[0m \u001b[1;33m=\u001b[0m \u001b[0m_str_to_utf8\u001b[0m\u001b[1;33m(\u001b[0m\u001b[0maxes_long_names\u001b[0m\u001b[1;33m[\u001b[0m\u001b[0mi\u001b[0m\u001b[1;33m]\u001b[0m\u001b[1;33m)\u001b[0m\u001b[1;33m\n",
       "\u001b[0m\u001b[1;33m\n",
       "\u001b[0m        \u001b[1;32mif\u001b[0m \u001b[0msignal_errors\u001b[0m \u001b[1;32mis\u001b[0m \u001b[1;32mnot\u001b[0m \u001b[1;32mNone\u001b[0m\u001b[1;33m:\u001b[0m\u001b[1;33m\n",
       "\u001b[0m            \u001b[0mdata_group\u001b[0m\u001b[1;33m.\u001b[0m\u001b[0mcreate_dataset\u001b[0m\u001b[1;33m(\u001b[0m\u001b[1;34m\"errors\"\u001b[0m\u001b[1;33m,\u001b[0m\u001b[1;33m\n",
       "\u001b[0m                                      \u001b[0mdata\u001b[0m\u001b[1;33m=\u001b[0m\u001b[0msignal_errors\u001b[0m\u001b[1;33m)\u001b[0m\u001b[1;33m\n",
       "\u001b[0m\u001b[1;33m\n",
       "\u001b[0m        \u001b[1;32mif\u001b[0m \u001b[0maxes_errors\u001b[0m \u001b[1;32mis\u001b[0m \u001b[1;32mnot\u001b[0m \u001b[1;32mNone\u001b[0m\u001b[1;33m:\u001b[0m\u001b[1;33m\n",
       "\u001b[0m            \u001b[1;32massert\u001b[0m \u001b[0misinstance\u001b[0m\u001b[1;33m(\u001b[0m\u001b[0maxes_errors\u001b[0m\u001b[1;33m,\u001b[0m \u001b[1;33m(\u001b[0m\u001b[0mlist\u001b[0m\u001b[1;33m,\u001b[0m \u001b[0mtuple\u001b[0m\u001b[1;33m)\u001b[0m\u001b[1;33m)\u001b[0m\u001b[1;33m,\u001b[0m \\\n",
       "                \u001b[1;34m\"axes_errors must be a list or a tuple of ndarray or None\"\u001b[0m\u001b[1;33m\n",
       "\u001b[0m            \u001b[1;32massert\u001b[0m \u001b[0mlen\u001b[0m\u001b[1;33m(\u001b[0m\u001b[0maxes_errors\u001b[0m\u001b[1;33m)\u001b[0m \u001b[1;33m==\u001b[0m \u001b[0mlen\u001b[0m\u001b[1;33m(\u001b[0m\u001b[0maxes_names\u001b[0m\u001b[1;33m)\u001b[0m\u001b[1;33m,\u001b[0m \\\n",
       "                \u001b[1;34m\"Mismatch between number of axes_errors and axes_names\"\u001b[0m\u001b[1;33m\n",
       "\u001b[0m            \u001b[1;32mfor\u001b[0m \u001b[0mi\u001b[0m\u001b[1;33m,\u001b[0m \u001b[0maxis_errors\u001b[0m \u001b[1;32min\u001b[0m \u001b[0menumerate\u001b[0m\u001b[1;33m(\u001b[0m\u001b[0maxes_errors\u001b[0m\u001b[1;33m)\u001b[0m\u001b[1;33m:\u001b[0m\u001b[1;33m\n",
       "\u001b[0m                \u001b[1;32mif\u001b[0m \u001b[0maxis_errors\u001b[0m \u001b[1;32mis\u001b[0m \u001b[1;32mnot\u001b[0m \u001b[1;32mNone\u001b[0m\u001b[1;33m:\u001b[0m\u001b[1;33m\n",
       "\u001b[0m                    \u001b[0mdsname\u001b[0m \u001b[1;33m=\u001b[0m \u001b[0maxes_names\u001b[0m\u001b[1;33m[\u001b[0m\u001b[0mi\u001b[0m\u001b[1;33m]\u001b[0m \u001b[1;33m+\u001b[0m \u001b[1;34m\"_errors\"\u001b[0m\u001b[1;33m\n",
       "\u001b[0m                    \u001b[0mdata_group\u001b[0m\u001b[1;33m.\u001b[0m\u001b[0mcreate_dataset\u001b[0m\u001b[1;33m(\u001b[0m\u001b[0mdsname\u001b[0m\u001b[1;33m,\u001b[0m\u001b[1;33m\n",
       "\u001b[0m                                              \u001b[0mdata\u001b[0m\u001b[1;33m=\u001b[0m\u001b[0maxis_errors\u001b[0m\u001b[1;33m)\u001b[0m\u001b[1;33m\n",
       "\u001b[0m        \u001b[1;32mif\u001b[0m \u001b[1;34m\"default\"\u001b[0m \u001b[1;32mnot\u001b[0m \u001b[1;32min\u001b[0m \u001b[0mentry\u001b[0m\u001b[1;33m.\u001b[0m\u001b[0mattrs\u001b[0m\u001b[1;33m:\u001b[0m\u001b[1;33m\n",
       "\u001b[0m            \u001b[1;31m# set this NXdata as default\u001b[0m\u001b[1;33m\n",
       "\u001b[0m            \u001b[0mentry\u001b[0m\u001b[1;33m.\u001b[0m\u001b[0mattrs\u001b[0m\u001b[1;33m[\u001b[0m\u001b[1;34m\"default\"\u001b[0m\u001b[1;33m]\u001b[0m \u001b[1;33m=\u001b[0m \u001b[0mnxdata_name\u001b[0m\u001b[1;33m\n",
       "\u001b[0m\u001b[1;33m\n",
       "\u001b[0m    \u001b[1;32mreturn\u001b[0m \u001b[1;32mTrue\u001b[0m\u001b[1;33m\u001b[0m\u001b[1;33m\u001b[0m\u001b[0m\n",
       "\u001b[1;31mFile:\u001b[0m      c:\\programdata\\anaconda3\\envs\\edgar\\lib\\site-packages\\silx\\io\\nxdata\\write.py\n",
       "\u001b[1;31mType:\u001b[0m      function"
      ]
     },
     "metadata": {},
     "output_type": "display_data"
    }
   ],
   "source": [
    "nxdata.save_NXdata??"
   ]
  },
  {
   "cell_type": "code",
   "execution_count": null,
   "id": "f4401f48-55f8-4865-b711-7b8a085deb7e",
   "metadata": {},
   "outputs": [],
   "source": []
  },
  {
   "cell_type": "code",
   "execution_count": null,
   "id": "c2687ec1-7015-4fbd-b00e-af1a4a80e21e",
   "metadata": {},
   "outputs": [],
   "source": []
  },
  {
   "cell_type": "code",
   "execution_count": null,
   "id": "f7c35dc4-5bd4-49d0-8eb7-e2ecf8e7591e",
   "metadata": {},
   "outputs": [],
   "source": []
  },
  {
   "cell_type": "code",
   "execution_count": null,
   "id": "a0aa8fed-2577-4124-8177-6582e323af8d",
   "metadata": {},
   "outputs": [],
   "source": []
  },
  {
   "cell_type": "code",
   "execution_count": 57,
   "id": "9aa59ea4-5395-4679-a344-cf0b9a7def25",
   "metadata": {},
   "outputs": [
    {
     "ename": "TypeError",
     "evalue": "Only chunked datasets can be resized",
     "output_type": "error",
     "traceback": [
      "\u001b[1;31m---------------------------------------------------------------------------\u001b[0m",
      "\u001b[1;31mTypeError\u001b[0m                                 Traceback (most recent call last)",
      "Cell \u001b[1;32mIn[57], line 8\u001b[0m\n\u001b[0;32m      5\u001b[0m current_shape \u001b[38;5;241m=\u001b[39m dataset\u001b[38;5;241m.\u001b[39mshape\n\u001b[0;32m      6\u001b[0m new_shape \u001b[38;5;241m=\u001b[39m (current_shape[\u001b[38;5;241m0\u001b[39m], current_shape[\u001b[38;5;241m1\u001b[39m] \u001b[38;5;241m+\u001b[39m b\u001b[38;5;241m.\u001b[39mshape[\u001b[38;5;241m1\u001b[39m])\n\u001b[1;32m----> 8\u001b[0m \u001b[43mdataset\u001b[49m\u001b[38;5;241;43m.\u001b[39;49m\u001b[43mresize\u001b[49m\u001b[43m(\u001b[49m\u001b[43mnew_shape\u001b[49m\u001b[43m)\u001b[49m\n\u001b[0;32m     11\u001b[0m \u001b[38;5;28mprint\u001b[39m(new_shape)\n",
      "File \u001b[1;32mC:\\ProgramData\\Anaconda3\\envs\\edgar\\lib\\site-packages\\h5py\\_hl\\dataset.py:673\u001b[0m, in \u001b[0;36mDataset.resize\u001b[1;34m(self, size, axis)\u001b[0m\n\u001b[0;32m    671\u001b[0m \u001b[38;5;28;01mwith\u001b[39;00m phil:\n\u001b[0;32m    672\u001b[0m     \u001b[38;5;28;01mif\u001b[39;00m \u001b[38;5;28mself\u001b[39m\u001b[38;5;241m.\u001b[39mchunks \u001b[38;5;129;01mis\u001b[39;00m \u001b[38;5;28;01mNone\u001b[39;00m:\n\u001b[1;32m--> 673\u001b[0m         \u001b[38;5;28;01mraise\u001b[39;00m \u001b[38;5;167;01mTypeError\u001b[39;00m(\u001b[38;5;124m\"\u001b[39m\u001b[38;5;124mOnly chunked datasets can be resized\u001b[39m\u001b[38;5;124m\"\u001b[39m)\n\u001b[0;32m    675\u001b[0m     \u001b[38;5;28;01mif\u001b[39;00m axis \u001b[38;5;129;01mis\u001b[39;00m \u001b[38;5;129;01mnot\u001b[39;00m \u001b[38;5;28;01mNone\u001b[39;00m:\n\u001b[0;32m    676\u001b[0m         \u001b[38;5;28;01mif\u001b[39;00m \u001b[38;5;129;01mnot\u001b[39;00m (axis \u001b[38;5;241m>\u001b[39m\u001b[38;5;241m=\u001b[39m\u001b[38;5;241m0\u001b[39m \u001b[38;5;129;01mand\u001b[39;00m axis \u001b[38;5;241m<\u001b[39m \u001b[38;5;28mself\u001b[39m\u001b[38;5;241m.\u001b[39mid\u001b[38;5;241m.\u001b[39mrank):\n",
      "\u001b[1;31mTypeError\u001b[0m: Only chunked datasets can be resized"
     ]
    }
   ],
   "source": [
    "with h5py_utils.File(H5_FILE, 'r+') as h5:\n",
    "    dataset_path = f'my_entry_8/my_curve/frames'\n",
    "    dataset = h5[dataset_path]\n",
    "    \n",
    "    current_shape = dataset.shape\n",
    "    new_shape = (current_shape[0], current_shape[1] + b.shape[1])\n",
    "\n",
    "    dataset.resize(new_shape)\n",
    "\n",
    "    \n",
    "    print(new_shape)"
   ]
  },
  {
   "cell_type": "code",
   "execution_count": null,
   "id": "3f898924-d44d-40a1-8bdd-eafdcbfa68bb",
   "metadata": {},
   "outputs": [],
   "source": []
  },
  {
   "cell_type": "code",
   "execution_count": null,
   "id": "81ca2c68-04bc-47b6-9598-a73b74aad470",
   "metadata": {},
   "outputs": [],
   "source": []
  },
  {
   "cell_type": "code",
   "execution_count": null,
   "id": "fd446390-e5cc-4183-b4ed-6a0706b57c4f",
   "metadata": {},
   "outputs": [],
   "source": []
  },
  {
   "cell_type": "code",
   "execution_count": null,
   "id": "e5a0949e-a292-4fb6-8763-545700f5a318",
   "metadata": {},
   "outputs": [],
   "source": []
  },
  {
   "cell_type": "code",
   "execution_count": null,
   "id": "9b0141cc-5ac5-490b-8c3f-6e3bf2b49209",
   "metadata": {},
   "outputs": [],
   "source": []
  },
  {
   "cell_type": "code",
   "execution_count": null,
   "id": "acf03d5c-e53a-45c6-b729-92cb60d9c0b5",
   "metadata": {},
   "outputs": [],
   "source": []
  },
  {
   "cell_type": "code",
   "execution_count": null,
   "id": "3c78f0cf-e8cd-4b2a-9957-5bab90fe93a5",
   "metadata": {},
   "outputs": [],
   "source": []
  },
  {
   "cell_type": "code",
   "execution_count": 22,
   "id": "6a38b2c9-5774-4965-84b4-9a43ae39941e",
   "metadata": {},
   "outputs": [],
   "source": []
  },
  {
   "cell_type": "code",
   "execution_count": 16,
   "id": "58dcb0d5-5dfb-4816-95f0-4605e20337a0",
   "metadata": {},
   "outputs": [
    {
     "data": {
      "text/plain": [
       "(2, 10)"
      ]
     },
     "execution_count": 16,
     "metadata": {},
     "output_type": "execute_result"
    }
   ],
   "source": [
    "a.shape"
   ]
  },
  {
   "cell_type": "code",
   "execution_count": 21,
   "id": "a94d5f5c-ca03-4175-b5ba-bd2863ad0299",
   "metadata": {},
   "outputs": [
    {
     "data": {
      "text/plain": [
       "[<matplotlib.lines.Line2D at 0x1e09e3df400>]"
      ]
     },
     "execution_count": 21,
     "metadata": {},
     "output_type": "execute_result"
    },
    {
     "data": {
      "image/png": "[encoded data removed]",
      "text/plain": [
       "<Figure size 640x480 with 1 Axes>"
      ]
     },
     "metadata": {},
     "output_type": "display_data"
    }
   ],
   "source": [
    "plt.plot(a[0,:],a[1,:])"
   ]
  },
  {
   "cell_type": "code",
   "execution_count": null,
   "id": "b00299d2-8b4d-4287-aefd-484568c03bc2",
   "metadata": {},
   "outputs": [],
   "source": []
  },
  {
   "cell_type": "code",
   "execution_count": null,
   "id": "bd4a4504-5dde-4bf8-8165-0ef0bd61b1fb",
   "metadata": {},
   "outputs": [],
   "source": []
  },
  {
   "cell_type": "code",
   "execution_count": null,
   "id": "d4aeb4c3-070c-411b-995a-e647fc5c85c7",
   "metadata": {},
   "outputs": [],
   "source": []
  },
  {
   "cell_type": "code",
   "execution_count": null,
   "id": "1106ff11-cdc6-4657-a047-56f00a89f124",
   "metadata": {},
   "outputs": [],
   "source": []
  },
  {
   "cell_type": "code",
   "execution_count": 10,
   "id": "5d7fdb60-87e3-4f73-a205-ad7564ae6f37",
   "metadata": {},
   "outputs": [],
   "source": [
    "h5 = h5py_utils.File(H5_FILE, 'r+')"
   ]
  },
  {
   "cell_type": "code",
   "execution_count": 14,
   "id": "a2189098-0836-4b6d-a66d-0bab22e7f5c6",
   "metadata": {},
   "outputs": [
    {
     "data": {
      "text/plain": [
       "<HDF5 group \"/NXentry\" (0 members)>"
      ]
     },
     "execution_count": 14,
     "metadata": {},
     "output_type": "execute_result"
    }
   ],
   "source": [
    "h5[NXENTRY_KEY]"
   ]
  },
  {
   "cell_type": "code",
   "execution_count": 18,
   "id": "d047e526-2dc7-43e2-8b9a-a13a6f0e97e9",
   "metadata": {},
   "outputs": [
    {
     "data": {
      "text/plain": [
       "False"
      ]
     },
     "execution_count": 18,
     "metadata": {},
     "output_type": "execute_result"
    }
   ],
   "source": [
    "nxdata.is_NXroot_with_default_NXdata(h5[NXENTRY_KEY])"
   ]
  },
  {
   "cell_type": "code",
   "execution_count": null,
   "id": "432ae67a-8458-44ec-a738-627d03864482",
   "metadata": {},
   "outputs": [],
   "source": []
  }
 ],
 "metadata": {
  "kernelspec": {
   "display_name": "Python 3 (ipykernel)",
   "language": "python",
   "name": "python3"
  },
  "language_info": {
   "codemirror_mode": {
    "name": "ipython",
    "version": 3
   },
   "file_extension": ".py",
   "mimetype": "text/x-python",
   "name": "python",
   "nbconvert_exporter": "python",
   "pygments_lexer": "ipython3",
   "version": "3.10.9"
  }
 },
 "nbformat": 4,
 "nbformat_minor": 5
}
