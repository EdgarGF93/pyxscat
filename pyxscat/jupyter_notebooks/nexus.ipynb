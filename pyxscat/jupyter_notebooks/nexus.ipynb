{
 "cells": [
  {
   "cell_type": "code",
   "execution_count": 32,
   "id": "d18acd11-86b0-4378-87d2-a6bedb54a7ea",
   "metadata": {},
   "outputs": [],
   "source": [
    "import h5py\n",
    "from silx.io import nxdata, open, commonh5, h5py_utils"
   ]
  },
  {
   "cell_type": "code",
   "execution_count": 17,
   "id": "3d57830d-e9a4-42d7-a3e8-04105d58cd62",
   "metadata": {},
   "outputs": [],
   "source": [
    "NXENTRY_KEY = 'NXentry'"
   ]
  },
  {
   "cell_type": "code",
   "execution_count": 18,
   "id": "b1a8a95e-3eb2-48f4-ac8c-3041495fa7bc",
   "metadata": {},
   "outputs": [],
   "source": [
    "H5_FILE = r'C:\\Users\\edgar1993a\\Work Folders\\Documents\\Python\\pyxscat\\pyxscat\\test\\test_edf\\test_NCD\\test_NCD_nx.h5'"
   ]
  },
  {
   "cell_type": "code",
   "execution_count": 33,
   "id": "754500e2-bacf-484c-9024-127c8beb09c1",
   "metadata": {},
   "outputs": [],
   "source": [
    "h5 = h5py_utils.File(H5_FILE, 'w')"
   ]
  },
  {
   "cell_type": "code",
   "execution_count": 34,
   "id": "02c96c54-8ec7-496b-8921-0484dea6582e",
   "metadata": {},
   "outputs": [],
   "source": [
    "h5.close()"
   ]
  },
  {
   "cell_type": "code",
   "execution_count": 36,
   "id": "67221132-ed92-4e36-972c-f5f306bb8bb3",
   "metadata": {},
   "outputs": [],
   "source": [
    "with h5py_utils.File(H5_FILE, 'r+') as h5:\n",
    "    h5.create_group(NXENTRY_KEY)"
   ]
  },
  {
   "cell_type": "code",
   "execution_count": null,
   "id": "58dcb0d5-5dfb-4816-95f0-4605e20337a0",
   "metadata": {},
   "outputs": [],
   "source": []
  },
  {
   "cell_type": "code",
   "execution_count": null,
   "id": "5d7fdb60-87e3-4f73-a205-ad7564ae6f37",
   "metadata": {},
   "outputs": [],
   "source": []
  },
  {
   "cell_type": "code",
   "execution_count": 9,
   "id": "d047e526-2dc7-43e2-8b9a-a13a6f0e97e9",
   "metadata": {},
   "outputs": [
    {
     "data": {
      "text/plain": [
       "False"
      ]
     },
     "execution_count": 9,
     "metadata": {},
     "output_type": "execute_result"
    }
   ],
   "source": [
    "nxdata.is_valid_nxdata(h5)"
   ]
  },
  {
   "cell_type": "code",
   "execution_count": null,
   "id": "432ae67a-8458-44ec-a738-627d03864482",
   "metadata": {},
   "outputs": [],
   "source": []
  }
 ],
 "metadata": {
  "kernelspec": {
   "display_name": "Python 3 (ipykernel)",
   "language": "python",
   "name": "python3"
  },
  "language_info": {
   "codemirror_mode": {
    "name": "ipython",
    "version": 3
   },
   "file_extension": ".py",
   "mimetype": "text/x-python",
   "name": "python",
   "nbconvert_exporter": "python",
   "pygments_lexer": "ipython3",
   "version": "3.10.9"
  }
 },
 "nbformat": 4,
 "nbformat_minor": 5
}
