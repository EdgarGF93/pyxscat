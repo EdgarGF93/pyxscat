{
 "cells": [
  {
   "cell_type": "code",
   "execution_count": 1,
   "id": "d33c9864-6524-4ea0-9379-02531753d3cf",
   "metadata": {},
   "outputs": [
    {
     "name": "stderr",
     "output_type": "stream",
     "text": [
      "WARNING:silx.opencl.common:Unable to import pyOpenCl. Please install it from: https://pypi.org/project/pyopencl\n"
     ]
    }
   ],
   "source": [
    "from pyxscat.h5_integrator import H5GIIntegrator\n",
    "import fabio\n",
    "from test_h5 import *"
   ]
  },
  {
   "cell_type": "code",
   "execution_count": 3,
   "id": "9b14d3d7-9fb2-4eda-b49c-0305451bb1bf",
   "metadata": {},
   "outputs": [],
   "source": [
    "# h5 = H5GIIntegrator(\n",
    "#     root_directory=NCD_EXAMPLE_PATH,\n",
    "# )\n",
    "# h5.update_datafiles(search=True)"
   ]
  },
  {
   "cell_type": "code",
   "execution_count": 6,
   "id": "e5e1aa43-38f3-445a-84d2-49cff09baad6",
   "metadata": {},
   "outputs": [],
   "source": [
    "original_name = h5.get_all_files()[0]"
   ]
  },
  {
   "cell_type": "markdown",
   "id": "944a4f74-dd49-45c5-982a-d310d59f7d05",
   "metadata": {},
   "source": [
    "#### Create new dummy file, a copy"
   ]
  },
  {
   "cell_type": "code",
   "execution_count": 8,
   "id": "e86cb855-b599-4e4b-9c48-a6a654d66dfa",
   "metadata": {},
   "outputs": [],
   "source": [
    "fabio.open(original_name).write(original_name.replace('.edf', '_x000.edf'))"
   ]
  },
  {
   "cell_type": "code",
   "execution_count": null,
   "id": "3e5aa153-aac4-4945-b88d-8bd6d34e7453",
   "metadata": {},
   "outputs": [],
   "source": []
  },
  {
   "cell_type": "code",
   "execution_count": null,
   "id": "51d71090-6cfd-473a-89a4-449d5d10668c",
   "metadata": {},
   "outputs": [],
   "source": []
  },
  {
   "cell_type": "code",
   "execution_count": null,
   "id": "08774f84-5e07-40f1-ba87-f464a85f51c0",
   "metadata": {},
   "outputs": [],
   "source": []
  },
  {
   "cell_type": "code",
   "execution_count": null,
   "id": "a83d6023-41c2-4488-9cbb-c12aec02f28f",
   "metadata": {},
   "outputs": [],
   "source": []
  }
 ],
 "metadata": {
  "kernelspec": {
   "display_name": "Python 3 (ipykernel)",
   "language": "python",
   "name": "python3"
  },
  "language_info": {
   "codemirror_mode": {
    "name": "ipython",
    "version": 3
   },
   "file_extension": ".py",
   "mimetype": "text/x-python",
   "name": "python",
   "nbconvert_exporter": "python",
   "pygments_lexer": "ipython3",
   "version": "3.10.9"
  }
 },
 "nbformat": 4,
 "nbformat_minor": 5
}
