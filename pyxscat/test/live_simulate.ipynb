{
 "cells": [
  {
   "cell_type": "code",
   "execution_count": 2,
   "id": "d33c9864-6524-4ea0-9379-02531753d3cf",
   "metadata": {},
   "outputs": [],
   "source": [
    "from pyxscat.h5_integrator import H5GIIntegrator\n",
    "import fabio\n",
    "from test_h5 import *"
   ]
  },
  {
   "cell_type": "code",
   "execution_count": 15,
   "id": "9b14d3d7-9fb2-4eda-b49c-0305451bb1bf",
   "metadata": {},
   "outputs": [],
   "source": [
    "# h5 = H5GIIntegrator(\n",
    "#     root_directory=NCD_EXAMPLE_PATH,\n",
    "# )\n",
    "# h5.update_datafiles(search=True)"
   ]
  },
  {
   "cell_type": "code",
   "execution_count": 22,
   "id": "9a4c6e4e-8134-4288-b798-58838444a2a5",
   "metadata": {},
   "outputs": [
    {
     "name": "stderr",
     "output_type": "stream",
     "text": [
      "INFO:PyXScatLogger:We entered into function: get_all_files\n",
      "INFO:PyXScatLogger:We entered into function: generator_all_files\n",
      "INFO:PyXScatLogger:We entered into function: generator_samples\n",
      "INFO:PyXScatLogger:We entered into function: generator_files_in_sample\n",
      "INFO:PyXScatLogger:We entered into function: generator_files_in_sample\n"
     ]
    }
   ],
   "source": [
    "original_name = h5.get_all_files()[0]"
   ]
  },
  {
   "cell_type": "code",
   "execution_count": 24,
   "id": "e7029788-8390-4b77-8619-af2d6a1795d9",
   "metadata": {},
   "outputs": [
    {
     "data": {
      "text/plain": [
       "'C:/Users/edgar1993a/Work Folders/Documents/Python/pyxscat/pyxscat/test/test_edf/test_NCD/A1/rayonix_A1_spitch_0.12_000_0000.edf'"
      ]
     },
     "execution_count": 24,
     "metadata": {},
     "output_type": "execute_result"
    }
   ],
   "source": [
    "original_name"
   ]
  },
  {
   "cell_type": "markdown",
   "id": "944a4f74-dd49-45c5-982a-d310d59f7d05",
   "metadata": {},
   "source": [
    "#### Create new dummy file, a copy"
   ]
  },
  {
   "cell_type": "code",
   "execution_count": 25,
   "id": "e86cb855-b599-4e4b-9c48-a6a654d66dfa",
   "metadata": {},
   "outputs": [],
   "source": [
    "fabio.open(original_name).write(original_name.replace('.edf', '_x000.edf'))"
   ]
  },
  {
   "cell_type": "code",
   "execution_count": null,
   "id": "f17ab629-603b-448c-8bc1-596bf42b3dca",
   "metadata": {},
   "outputs": [],
   "source": []
  },
  {
   "cell_type": "code",
   "execution_count": null,
   "id": "89181dc2-55f7-4c05-99e1-cfedc0c04478",
   "metadata": {},
   "outputs": [],
   "source": []
  },
  {
   "cell_type": "code",
   "execution_count": null,
   "id": "96be1cc7-cdfb-425d-8d2a-ec1a7214052a",
   "metadata": {},
   "outputs": [],
   "source": []
  }
 ],
 "metadata": {
  "kernelspec": {
   "display_name": "Python 3 (ipykernel)",
   "language": "python",
   "name": "python3"
  },
  "language_info": {
   "codemirror_mode": {
    "name": "ipython",
    "version": 3
   },
   "file_extension": ".py",
   "mimetype": "text/x-python",
   "name": "python",
   "nbconvert_exporter": "python",
   "pygments_lexer": "ipython3",
   "version": "3.10.9"
  }
 },
 "nbformat": 4,
 "nbformat_minor": 5
}
