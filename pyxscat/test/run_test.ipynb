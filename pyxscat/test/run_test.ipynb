{
 "cells": [
  {
   "cell_type": "code",
   "execution_count": 6,
   "id": "c676ad07-5009-45a1-8e9c-3f34459b658e",
   "metadata": {},
   "outputs": [
    {
     "name": "stdout",
     "output_type": "stream",
     "text": [
      "\u001b[1m============================= test session starts =============================\u001b[0m\n",
      "platform win32 -- Python 3.10.9, pytest-7.1.2, pluggy-1.0.0 -- C:\\ProgramData\\Anaconda3\\envs\\edgar\\python.exe\n",
      "cachedir: .pytest_cache\n",
      "rootdir: C:\\Users\\edgar1993a\\Work Folders\\Documents\\Python\\pyxscat\\pyxscat\\test\n",
      "plugins: anyio-3.5.0\n",
      "\u001b[1mcollecting ... \u001b[0mcollected 3 items\n",
      "\n",
      "test_ncd_py.py::test_invalid_root_dir \u001b[32mPASSED\u001b[0m\u001b[32m                             [ 33%]\u001b[0m\n",
      "test_ncd_py.py::test_invalid_input_h5_file \u001b[32mPASSED\u001b[0m\u001b[32m                        [ 66%]\u001b[0m\n",
      "test_ncd_py.py::test_invalid_root_dir_and_input_file \u001b[32mPASSED\u001b[0m\u001b[32m              [100%]\u001b[0m\n",
      "\n",
      "=================================== PASSES ====================================\n",
      "=========================== short test summary info ===========================\n",
      "PASSED test_ncd_py.py::test_invalid_root_dir\n",
      "PASSED test_ncd_py.py::test_invalid_input_h5_file\n",
      "PASSED test_ncd_py.py::test_invalid_root_dir_and_input_file\n",
      "\u001b[32m============================== \u001b[32m\u001b[1m3 passed\u001b[0m\u001b[32m in 1.44s\u001b[0m\u001b[32m ==============================\u001b[0m\n"
     ]
    }
   ],
   "source": [
    "!pytest -v -rA test_ncd_py.py"
   ]
  },
  {
   "cell_type": "code",
   "execution_count": 10,
   "id": "8b0ecc6b-daee-4bdc-8399-32ab21762cec",
   "metadata": {},
   "outputs": [],
   "source": [
    "# import ipytest\n",
    "# ipytest.autoconfig()"
   ]
  },
  {
   "cell_type": "code",
   "execution_count": 9,
   "id": "fad5dcdb-cf79-491c-a7d2-9e9830e4b131",
   "metadata": {},
   "outputs": [],
   "source": [
    "# %%ipytest -qq"
   ]
  }
 ],
 "metadata": {
  "kernelspec": {
   "display_name": "Python 3 (ipykernel)",
   "language": "python",
   "name": "python3"
  },
  "language_info": {
   "codemirror_mode": {
    "name": "ipython",
    "version": 3
   },
   "file_extension": ".py",
   "mimetype": "text/x-python",
   "name": "python",
   "nbconvert_exporter": "python",
   "pygments_lexer": "ipython3",
   "version": "3.10.9"
  }
 },
 "nbformat": 4,
 "nbformat_minor": 5
}
