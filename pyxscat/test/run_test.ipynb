{
 "cells": [
  {
   "cell_type": "code",
   "execution_count": 5,
   "id": "c676ad07-5009-45a1-8e9c-3f34459b658e",
   "metadata": {},
   "outputs": [
    {
     "name": "stdout",
     "output_type": "stream",
     "text": [
      "\u001b[1m============================= test session starts =============================\u001b[0m\n",
      "platform win32 -- Python 3.10.9, pytest-7.1.2, pluggy-1.0.0 -- C:\\ProgramData\\Anaconda3\\envs\\edgar\\python.exe\n",
      "cachedir: .pytest_cache\n",
      "rootdir: C:\\Users\\edgar1993a\\Work Folders\\Documents\\Python\\pyxscat\\pyxscat\\test\n",
      "plugins: anyio-3.5.0\n",
      "\u001b[1mcollecting ... \u001b[0mcollected 5 items\n",
      "\n",
      "test_ncd_py.py::test_invalid_root_dir[C:/Users/edgar1993a/Work Folders/Documents/Python/pyxscat/edf_examples/test_NCD] \u001b[31mERROR\u001b[0m\u001b[31m [ 20%]\u001b[0m\n",
      "test_ncd_py.py::test_invalid_input_h5_file[C:/Users/edgar1993a/Work Folders/Documents/Python/pyxscat/edf_examples/test_NCD] \u001b[31mERROR\u001b[0m\u001b[31m [ 40%]\u001b[0m\n",
      "test_ncd_py.py::test_invalid_root_dir_and_input_file[C:/Users/edgar1993a/Work Folders/Documents/Python/pyxscat/edf_examples/test_NCD] \u001b[31mERROR\u001b[0m\u001b[31m [ 60%]\u001b[0m\n",
      "test_ncd_py.py::TestFromRootDir::test_init_root_dir_var[C:/Users/edgar1993a/Work Folders/Documents/Python/pyxscat/edf_examples/test_NCD] \u001b[31mERROR\u001b[0m\u001b[31m [ 80%]\u001b[0m\n",
      "test_ncd_py.py::TestFromRootDir::test_init_h5_filename_var[C:/Users/edgar1993a/Work Folders/Documents/Python/pyxscat/edf_examples/test_NCD] \u001b[31mERROR\u001b[0m\u001b[31m [100%]\u001b[0m\n",
      "\n",
      "=================================== ERRORS ====================================\n",
      "\u001b[31m\u001b[1m_ ERROR at setup of test_invalid_root_dir[C:/Users/edgar1993a/Work Folders/Documents/Python/pyxscat/edf_examples/test_NCD] _\u001b[0m\n",
      "file C:\\Users\\edgar1993a\\Work Folders\\Documents\\Python\\pyxscat\\pyxscat\\test\\test_ncd_py.py, line 19\n",
      "  def test_invalid_root_dir():\n",
      "file C:\\Users\\edgar1993a\\Work Folders\\Documents\\Python\\pyxscat\\pyxscat\\test\\test_ncd_py.py, line 43\n",
      "  @pytest.fixture(scope='class', params=[NCD_EXAMPLE_PATH], autouse=True)\n",
      "  def setup_class_fixture(cls, request):\n",
      "\u001b[31mE       fixture 'cls' not found\u001b[0m\n",
      "\u001b[31m>       available fixtures: anyio_backend, anyio_backend_name, anyio_backend_options, cache, capfd, capfdbinary, caplog, capsys, capsysbinary, doctest_namespace, monkeypatch, pytestconfig, record_property, record_testsuite_property, record_xml_attribute, recwarn, setup_class_fixture, tmp_path, tmp_path_factory, tmpdir, tmpdir_factory\u001b[0m\n",
      "\u001b[31m>       use 'pytest --fixtures [testpath]' for help on them.\u001b[0m\n",
      "\n",
      "C:\\Users\\edgar1993a\\Work Folders\\Documents\\Python\\pyxscat\\pyxscat\\test\\test_ncd_py.py:43\n",
      "\u001b[31m\u001b[1m_ ERROR at setup of test_invalid_input_h5_file[C:/Users/edgar1993a/Work Folders/Documents/Python/pyxscat/edf_examples/test_NCD] _\u001b[0m\n",
      "file C:\\Users\\edgar1993a\\Work Folders\\Documents\\Python\\pyxscat\\pyxscat\\test\\test_ncd_py.py, line 25\n",
      "  def test_invalid_input_h5_file():\n",
      "file C:\\Users\\edgar1993a\\Work Folders\\Documents\\Python\\pyxscat\\pyxscat\\test\\test_ncd_py.py, line 43\n",
      "  @pytest.fixture(scope='class', params=[NCD_EXAMPLE_PATH], autouse=True)\n",
      "  def setup_class_fixture(cls, request):\n",
      "\u001b[31mE       fixture 'cls' not found\u001b[0m\n",
      "\u001b[31m>       available fixtures: anyio_backend, anyio_backend_name, anyio_backend_options, cache, capfd, capfdbinary, caplog, capsys, capsysbinary, doctest_namespace, monkeypatch, pytestconfig, record_property, record_testsuite_property, record_xml_attribute, recwarn, setup_class_fixture, tmp_path, tmp_path_factory, tmpdir, tmpdir_factory\u001b[0m\n",
      "\u001b[31m>       use 'pytest --fixtures [testpath]' for help on them.\u001b[0m\n",
      "\n",
      "C:\\Users\\edgar1993a\\Work Folders\\Documents\\Python\\pyxscat\\pyxscat\\test\\test_ncd_py.py:43\n",
      "\u001b[31m\u001b[1m_ ERROR at setup of test_invalid_root_dir_and_input_file[C:/Users/edgar1993a/Work Folders/Documents/Python/pyxscat/edf_examples/test_NCD] _\u001b[0m\n",
      "file C:\\Users\\edgar1993a\\Work Folders\\Documents\\Python\\pyxscat\\pyxscat\\test\\test_ncd_py.py, line 31\n",
      "  def test_invalid_root_dir_and_input_file():\n",
      "file C:\\Users\\edgar1993a\\Work Folders\\Documents\\Python\\pyxscat\\pyxscat\\test\\test_ncd_py.py, line 43\n",
      "  @pytest.fixture(scope='class', params=[NCD_EXAMPLE_PATH], autouse=True)\n",
      "  def setup_class_fixture(cls, request):\n",
      "\u001b[31mE       fixture 'cls' not found\u001b[0m\n",
      "\u001b[31m>       available fixtures: anyio_backend, anyio_backend_name, anyio_backend_options, cache, capfd, capfdbinary, caplog, capsys, capsysbinary, doctest_namespace, monkeypatch, pytestconfig, record_property, record_testsuite_property, record_xml_attribute, recwarn, setup_class_fixture, tmp_path, tmp_path_factory, tmpdir, tmpdir_factory\u001b[0m\n",
      "\u001b[31m>       use 'pytest --fixtures [testpath]' for help on them.\u001b[0m\n",
      "\n",
      "C:\\Users\\edgar1993a\\Work Folders\\Documents\\Python\\pyxscat\\pyxscat\\test\\test_ncd_py.py:43\n",
      "\u001b[31m\u001b[1m_ ERROR at setup of TestFromRootDir.test_init_root_dir_var[C:/Users/edgar1993a/Work Folders/Documents/Python/pyxscat/edf_examples/test_NCD] _\u001b[0m\n",
      "file C:\\Users\\edgar1993a\\Work Folders\\Documents\\Python\\pyxscat\\pyxscat\\test\\test_ncd_py.py, line 70\n",
      "      def test_init_root_dir_var(self):\n",
      "file C:\\Users\\edgar1993a\\Work Folders\\Documents\\Python\\pyxscat\\pyxscat\\test\\test_ncd_py.py, line 43\n",
      "  @pytest.fixture(scope='class', params=[NCD_EXAMPLE_PATH], autouse=True)\n",
      "  def setup_class_fixture(cls, request):\n",
      "\u001b[31mE       fixture 'cls' not found\u001b[0m\n",
      "\u001b[31m>       available fixtures: anyio_backend, anyio_backend_name, anyio_backend_options, cache, capfd, capfdbinary, caplog, capsys, capsysbinary, doctest_namespace, monkeypatch, pytestconfig, record_property, record_testsuite_property, record_xml_attribute, recwarn, setup_class_fixture, tmp_path, tmp_path_factory, tmpdir, tmpdir_factory\u001b[0m\n",
      "\u001b[31m>       use 'pytest --fixtures [testpath]' for help on them.\u001b[0m\n",
      "\n",
      "C:\\Users\\edgar1993a\\Work Folders\\Documents\\Python\\pyxscat\\pyxscat\\test\\test_ncd_py.py:43\n",
      "\u001b[31m\u001b[1m_ ERROR at setup of TestFromRootDir.test_init_h5_filename_var[C:/Users/edgar1993a/Work Folders/Documents/Python/pyxscat/edf_examples/test_NCD] _\u001b[0m\n",
      "file C:\\Users\\edgar1993a\\Work Folders\\Documents\\Python\\pyxscat\\pyxscat\\test\\test_ncd_py.py, line 73\n",
      "      def test_init_h5_filename_var(self):\n",
      "file C:\\Users\\edgar1993a\\Work Folders\\Documents\\Python\\pyxscat\\pyxscat\\test\\test_ncd_py.py, line 43\n",
      "  @pytest.fixture(scope='class', params=[NCD_EXAMPLE_PATH], autouse=True)\n",
      "  def setup_class_fixture(cls, request):\n",
      "\u001b[31mE       fixture 'cls' not found\u001b[0m\n",
      "\u001b[31m>       available fixtures: anyio_backend, anyio_backend_name, anyio_backend_options, cache, capfd, capfdbinary, caplog, capsys, capsysbinary, doctest_namespace, monkeypatch, pytestconfig, record_property, record_testsuite_property, record_xml_attribute, recwarn, setup_class_fixture, tmp_path, tmp_path_factory, tmpdir, tmpdir_factory\u001b[0m\n",
      "\u001b[31m>       use 'pytest --fixtures [testpath]' for help on them.\u001b[0m\n",
      "\n",
      "C:\\Users\\edgar1993a\\Work Folders\\Documents\\Python\\pyxscat\\pyxscat\\test\\test_ncd_py.py:43\n",
      "=========================== short test summary info ===========================\n",
      "ERROR test_ncd_py.py::test_invalid_root_dir[C:/Users/edgar1993a/Work Folders/Documents/Python/pyxscat/edf_examples/test_NCD]\n",
      "ERROR test_ncd_py.py::test_invalid_input_h5_file[C:/Users/edgar1993a/Work Folders/Documents/Python/pyxscat/edf_examples/test_NCD]\n",
      "ERROR test_ncd_py.py::test_invalid_root_dir_and_input_file[C:/Users/edgar1993a/Work Folders/Documents/Python/pyxscat/edf_examples/test_NCD]\n",
      "ERROR test_ncd_py.py::TestFromRootDir::test_init_root_dir_var[C:/Users/edgar1993a/Work Folders/Documents/Python/pyxscat/edf_examples/test_NCD]\n",
      "ERROR test_ncd_py.py::TestFromRootDir::test_init_h5_filename_var[C:/Users/edgar1993a/Work Folders/Documents/Python/pyxscat/edf_examples/test_NCD]\n",
      "\u001b[31m============================== \u001b[31m\u001b[1m5 errors\u001b[0m\u001b[31m in 1.46s\u001b[0m\u001b[31m ==============================\u001b[0m\n"
     ]
    }
   ],
   "source": [
    "!pytest -v -rA test_ncd_py.py"
   ]
  },
  {
   "cell_type": "code",
   "execution_count": 2,
   "id": "8b0ecc6b-daee-4bdc-8399-32ab21762cec",
   "metadata": {},
   "outputs": [],
   "source": [
    "# import ipytest\n",
    "# ipytest.autoconfig()"
   ]
  },
  {
   "cell_type": "code",
   "execution_count": 3,
   "id": "fad5dcdb-cf79-491c-a7d2-9e9830e4b131",
   "metadata": {},
   "outputs": [],
   "source": [
    "# %%ipytest -qq"
   ]
  },
  {
   "cell_type": "code",
   "execution_count": null,
   "id": "b08895f6-1ab5-4ba2-b79f-013195503cf3",
   "metadata": {},
   "outputs": [],
   "source": []
  }
 ],
 "metadata": {
  "kernelspec": {
   "display_name": "Python 3 (ipykernel)",
   "language": "python",
   "name": "python3"
  },
  "language_info": {
   "codemirror_mode": {
    "name": "ipython",
    "version": 3
   },
   "file_extension": ".py",
   "mimetype": "text/x-python",
   "name": "python",
   "nbconvert_exporter": "python",
   "pygments_lexer": "ipython3",
   "version": "3.10.9"
  }
 },
 "nbformat": 4,
 "nbformat_minor": 5
}
