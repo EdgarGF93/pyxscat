{
 "cells": [
  {
   "cell_type": "code",
   "execution_count": 1,
   "id": "e0e1cb43",
   "metadata": {},
   "outputs": [],
   "source": [
    "import pyxscat"
   ]
  },
  {
   "cell_type": "code",
   "execution_count": 2,
   "id": "5c7fba65",
   "metadata": {},
   "outputs": [],
   "source": [
    "pyxscat?"
   ]
  },
  {
   "cell_type": "code",
   "execution_count": 3,
   "id": "bcbe79a7",
   "metadata": {},
   "outputs": [],
   "source": [
    "from pyxscat.edf import EdfClass"
   ]
  },
  {
   "cell_type": "code",
   "execution_count": 4,
   "id": "20f6546a",
   "metadata": {},
   "outputs": [],
   "source": [
    "EdfClass?"
   ]
  },
  {
   "cell_type": "code",
   "execution_count": 23,
   "id": "72eaab90",
   "metadata": {},
   "outputs": [],
   "source": [
    "from pathlib import Path"
   ]
  },
  {
   "cell_type": "code",
   "execution_count": 26,
   "id": "359cd9de",
   "metadata": {},
   "outputs": [],
   "source": [
    "PATH_TOML = Path(\".\").parent.joinpath(\"pyproject.toml\")\n",
    "\n",
    "def version():\n",
    "    with open(PATH_TOML, 'r') as f:\n",
    "        for line in f.readlines():\n",
    "            if 'version' in line:\n",
    "                return line.split()[-1]"
   ]
  },
  {
   "cell_type": "code",
   "execution_count": 29,
   "id": "09d538e5",
   "metadata": {},
   "outputs": [
    {
     "data": {
      "text/plain": [
       "'\"0.8\"'"
      ]
     },
     "execution_count": 29,
     "metadata": {},
     "output_type": "execute_result"
    }
   ],
   "source": [
    "str(version())"
   ]
  },
  {
   "cell_type": "code",
   "execution_count": 9,
   "id": "5ebc8af1",
   "metadata": {},
   "outputs": [],
   "source": [
    "path = r'C:\\Users\\edgar1993a\\Work Folders\\Documents\\Python\\pyxscat\\pyproject.toml'"
   ]
  },
  {
   "cell_type": "code",
   "execution_count": 18,
   "id": "d8aafc6a",
   "metadata": {},
   "outputs": [],
   "source": [
    "version = []"
   ]
  },
  {
   "cell_type": "code",
   "execution_count": 21,
   "id": "62e3a8f9",
   "metadata": {},
   "outputs": [],
   "source": [
    "with open(path, 'r') as f:\n",
    "    for line in f.readlines():\n",
    "        if 'version' in line:\n",
    "            version = line.split()[-1]"
   ]
  },
  {
   "cell_type": "code",
   "execution_count": 13,
   "id": "1eb0ecd1",
   "metadata": {},
   "outputs": [
    {
     "data": {
      "text/plain": [
       "['[project]\\n',\n",
       " 'name = \"pyxscat\"\\n',\n",
       " 'version = \"0.7\"\\n',\n",
       " 'authors = [\\n',\n",
       " '    {name = \"Edgar\", email = \"edgar.gutierrez-fernandez@esrf.fr\"},\\n',\n",
       " ']\\n',\n",
       " 'readme = \"README.md\"\\n',\n",
       " '\\n',\n",
       " 'dependencies = [\\n',\n",
       " '    \"numpy\",\\n',\n",
       " '    \"matplotlib\",\\n',\n",
       " '    \"pygix\",\\n',\n",
       " '    \"pyFAI\",\\n',\n",
       " '    \"PyQt5\",\\n',\n",
       " '    \"pandas\",\\n',\n",
       " '    \"h5py\",\\n',\n",
       " ']\\n',\n",
       " '\\n',\n",
       " '[tool.setuptools.packages.find]\\n',\n",
       " 'where = [\".\"]\\n',\n",
       " '\\n',\n",
       " '[project.scripts]\\n',\n",
       " 'pyxscat = \"gui.run:run\"']"
      ]
     },
     "execution_count": 13,
     "metadata": {},
     "output_type": "execute_result"
    }
   ],
   "source": [
    "x"
   ]
  },
  {
   "cell_type": "code",
   "execution_count": null,
   "id": "72c6f455",
   "metadata": {},
   "outputs": [],
   "source": []
  }
 ],
 "metadata": {
  "kernelspec": {
   "display_name": "Python 3 (ipykernel)",
   "language": "python",
   "name": "python3"
  },
  "language_info": {
   "codemirror_mode": {
    "name": "ipython",
    "version": 3
   },
   "file_extension": ".py",
   "mimetype": "text/x-python",
   "name": "python",
   "nbconvert_exporter": "python",
   "pygments_lexer": "ipython3",
   "version": "3.10.9"
  }
 },
 "nbformat": 4,
 "nbformat_minor": 5
}
